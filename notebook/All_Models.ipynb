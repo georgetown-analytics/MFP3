{
 "cells": [
  {
   "cell_type": "code",
   "execution_count": 2,
   "metadata": {
    "slideshow": {
     "slide_type": "fragment"
    }
   },
   "outputs": [],
   "source": [
    "%matplotlib inline\n",
    "import matplotlib.pyplot as plt\n",
    "import seaborn as sns\n",
    "sns.set(font_scale=1.5)\n",
    "import pandas as pd\n",
    "import numpy as np\n",
    "from sklearn.feature_extraction.text import CountVectorizer\n",
    "from sklearn.feature_extraction import text"
   ]
  },
  {
   "cell_type": "markdown",
   "metadata": {},
   "source": [
    "# Multinomial Naive Bayes on Headlines Only"
   ]
  },
  {
   "cell_type": "code",
   "execution_count": 3,
   "metadata": {},
   "outputs": [
    {
     "data": {
      "text/plain": [
       "Facebook          1977\n",
       "Twitter            902\n",
       "Alibaba            544\n",
       "Groupon            426\n",
       "General Motors     368\n",
       "LinkedIn           193\n",
       "Snapchat           185\n",
       "Blue Apron         125\n",
       "Fitbit             114\n",
       "Etsy               104\n",
       "Shake Shack        103\n",
       "GoPro               91\n",
       "Workday             90\n",
       "Ferrari             46\n",
       "Stitch Fix          33\n",
       "Name: Company, dtype: int64"
      ]
     },
     "execution_count": 3,
     "metadata": {},
     "output_type": "execute_result"
    }
   ],
   "source": [
    "df = pd.read_csv('features.csv', sep='|', index_col=0)\n",
    "df['Company'].value_counts()"
   ]
  },
  {
   "cell_type": "code",
   "execution_count": 4,
   "metadata": {},
   "outputs": [
    {
     "data": {
      "text/plain": [
       "(5301, 36)"
      ]
     },
     "execution_count": 4,
     "metadata": {},
     "output_type": "execute_result"
    }
   ],
   "source": [
    "df.shape"
   ]
  },
  {
   "cell_type": "markdown",
   "metadata": {},
   "source": [
    "## Tried Removing Facebook Since it Represented a Disproportionate Number of Instances"
   ]
  },
  {
   "cell_type": "code",
   "execution_count": 5,
   "metadata": {},
   "outputs": [],
   "source": [
    "#df_woFB = df[df['Company'] != 'Facebook']\n",
    "#df_woFB['Company'].value_counts()"
   ]
  },
  {
   "cell_type": "code",
   "execution_count": 6,
   "metadata": {},
   "outputs": [
    {
     "data": {
      "text/plain": [
       "(5301,)"
      ]
     },
     "execution_count": 6,
     "metadata": {},
     "output_type": "execute_result"
    }
   ],
   "source": [
    "## Replacing all the numbers in the text to 'NUM_' to simplify and reduce total featues\n",
    "text_data = df['Headline'].replace('\\d+', 'NUM_', regex=True)\n",
    "#text_data = df['Headline']\n",
    "#text_data = df_woFB['Headline'].replace('\\d+', 'NUM_', regex=True)\n",
    "text_data.shape"
   ]
  },
  {
   "cell_type": "code",
   "execution_count": 7,
   "metadata": {},
   "outputs": [],
   "source": [
    "my_stop_words = ('facebook', 'linkedin', 'groupon', 'snap', 'twitter', 'alibaba', 'group', 'holding', 'etsy', 'fitbit',\n",
    "                'workday', 'gopro', 'blue', 'apron', 'holdings', 'ferrari', 'general', 'motors', 'shake', 'shack',\n",
    "                'stitch', 'fix', 'tesla', 'motors', 'num_', 'ipo', 'negative', 'neutral', 'positive')\n",
    "stop_words = text.ENGLISH_STOP_WORDS.union(my_stop_words)"
   ]
  },
  {
   "cell_type": "code",
   "execution_count": 8,
   "metadata": {},
   "outputs": [],
   "source": [
    "vectorizer = CountVectorizer(analyzer='word', stop_words=stop_words)"
   ]
  },
  {
   "cell_type": "code",
   "execution_count": 9,
   "metadata": {},
   "outputs": [
    {
     "data": {
      "text/plain": [
       "CountVectorizer(analyzer='word', binary=False, decode_error='strict',\n",
       "        dtype=<class 'numpy.int64'>, encoding='utf-8', input='content',\n",
       "        lowercase=True, max_df=1.0, max_features=None, min_df=1,\n",
       "        ngram_range=(1, 1), preprocessor=None,\n",
       "        stop_words=frozenset({'my', 'whenever', 'enough', 'if', 'something', 'yours', 'own', 'here', 'neither', 'eg', 'ferrari', 'may', 'bottom', 'via', 'of', 'rather', 'out', 'cant', 'eleven', 'go', 'what', 'none', 'without', 'couldnt', 'groupon', 'some', 'onto', 'whereas', 'about', 'seeming', 'three', 'no...nwhile', 'seem', 'could', 'get', 'against', 'before', 'seems', 'whose', 'me', 'from', 'no', 'then'}),\n",
       "        strip_accents=None, token_pattern='(?u)\\\\b\\\\w\\\\w+\\\\b',\n",
       "        tokenizer=None, vocabulary=None)"
      ]
     },
     "execution_count": 9,
     "metadata": {},
     "output_type": "execute_result"
    }
   ],
   "source": [
    "vectorizer.fit(text_data)"
   ]
  },
  {
   "cell_type": "code",
   "execution_count": 10,
   "metadata": {},
   "outputs": [
    {
     "data": {
      "text/plain": [
       "['abandons',\n",
       " 'abercrombie',\n",
       " 'ability',\n",
       " 'able',\n",
       " 'abound',\n",
       " 'abounding',\n",
       " 'accel',\n",
       " 'accelerate',\n",
       " 'acceleration',\n",
       " 'access',\n",
       " 'accessibility',\n",
       " 'accommodations',\n",
       " 'according',\n",
       " 'account',\n",
       " 'accounting',\n",
       " 'accounts',\n",
       " 'accusations',\n",
       " 'accused',\n",
       " 'achievements',\n",
       " 'achilles',\n",
       " 'ackaman',\n",
       " 'acquired',\n",
       " 'acquisition',\n",
       " 'acquisitions',\n",
       " 'acsoi',\n",
       " 'act',\n",
       " 'action',\n",
       " 'actions',\n",
       " 'active',\n",
       " 'activity',\n",
       " 'ad',\n",
       " 'adapt',\n",
       " 'add',\n",
       " 'added',\n",
       " 'adding',\n",
       " 'additional',\n",
       " 'address',\n",
       " 'addressed',\n",
       " 'addressing',\n",
       " 'adds',\n",
       " 'admits',\n",
       " 'adp',\n",
       " 'adrs',\n",
       " 'ads',\n",
       " 'advance',\n",
       " 'adventure',\n",
       " 'advertis',\n",
       " 'advertisers',\n",
       " 'advertisi',\n",
       " 'advertising',\n",
       " 'advice',\n",
       " 'advise',\n",
       " 'adviser',\n",
       " 'advisers',\n",
       " 'advisory',\n",
       " 'advocates',\n",
       " 'affair',\n",
       " 'affect',\n",
       " 'affected',\n",
       " 'affects',\n",
       " 'affordable',\n",
       " 'aflutter',\n",
       " 'afraid',\n",
       " 'aftermath',\n",
       " 'aftershocks',\n",
       " 'age',\n",
       " 'agency',\n",
       " 'agenda',\n",
       " 'agent',\n",
       " 'aggregate',\n",
       " 'aggressive',\n",
       " 'ago',\n",
       " 'agreements',\n",
       " 'agrees',\n",
       " 'ah',\n",
       " 'ahead',\n",
       " 'ailing',\n",
       " 'aim',\n",
       " 'aiming',\n",
       " 'aims',\n",
       " 'ain',\n",
       " 'air',\n",
       " 'airlines',\n",
       " 'akerson',\n",
       " 'alarms',\n",
       " 'alert',\n",
       " 'alienate',\n",
       " 'allay',\n",
       " 'allee',\n",
       " 'allege',\n",
       " 'alleged',\n",
       " 'alleges',\n",
       " 'alleging',\n",
       " 'allen',\n",
       " 'alleviate',\n",
       " 'allies',\n",
       " 'allocated',\n",
       " 'allotment',\n",
       " 'allowed',\n",
       " 'allows',\n",
       " 'allure',\n",
       " 'alternative',\n",
       " 'alternatives',\n",
       " 'alters',\n",
       " 'alto',\n",
       " 'alumni',\n",
       " 'alwaleed',\n",
       " 'amazon',\n",
       " 'ambitions',\n",
       " 'ambitious',\n",
       " 'amended',\n",
       " 'amendment',\n",
       " 'amends',\n",
       " 'america',\n",
       " 'american',\n",
       " 'americans',\n",
       " 'amid',\n",
       " 'amped',\n",
       " 'amr',\n",
       " 'analy',\n",
       " 'analysis',\n",
       " 'analyst',\n",
       " 'analysts',\n",
       " 'analytics',\n",
       " 'analyze',\n",
       " 'analyzes',\n",
       " 'andrew',\n",
       " 'anemic',\n",
       " 'anger',\n",
       " 'angie',\n",
       " 'angry',\n",
       " 'anniversary',\n",
       " 'annotated',\n",
       " 'announce',\n",
       " 'announced',\n",
       " 'announcement',\n",
       " 'announces',\n",
       " 'annual',\n",
       " 'answer',\n",
       " 'answers',\n",
       " 'ante',\n",
       " 'anti',\n",
       " 'anticipated',\n",
       " 'anticipation',\n",
       " 'anticlimactic',\n",
       " 'anxiety',\n",
       " 'aol',\n",
       " 'ap',\n",
       " 'apes',\n",
       " 'apiece',\n",
       " 'aplenty',\n",
       " 'apologies',\n",
       " 'apologizes',\n",
       " 'apology',\n",
       " 'app',\n",
       " 'apparel',\n",
       " 'appdynamics',\n",
       " 'appeal',\n",
       " 'appear',\n",
       " 'appears',\n",
       " 'appetite',\n",
       " 'appetites',\n",
       " 'applauds',\n",
       " 'apple',\n",
       " 'appoints',\n",
       " 'appreciation',\n",
       " 'approach',\n",
       " 'approaches',\n",
       " 'approx',\n",
       " 'apps',\n",
       " 'april',\n",
       " 'architect',\n",
       " 'area',\n",
       " 'areas',\n",
       " 'aren',\n",
       " 'arena',\n",
       " 'argues',\n",
       " 'arise',\n",
       " 'arizona',\n",
       " 'arrangement',\n",
       " 'arrive',\n",
       " 'arrived',\n",
       " 'arrives',\n",
       " 'arrogance',\n",
       " 'arrow',\n",
       " 'art',\n",
       " 'articles',\n",
       " 'artisanal',\n",
       " 'artist',\n",
       " 'artists',\n",
       " 'ashton',\n",
       " 'asia',\n",
       " 'asian',\n",
       " 'aside',\n",
       " 'ask',\n",
       " 'asked',\n",
       " 'asking',\n",
       " 'asks',\n",
       " 'aspirations',\n",
       " 'assailed',\n",
       " 'asset',\n",
       " 'assets',\n",
       " 'assigned',\n",
       " 'associated',\n",
       " 'associates',\n",
       " 'assured',\n",
       " 'atd',\n",
       " 'atl',\n",
       " 'attack',\n",
       " 'attempts',\n",
       " 'attendees',\n",
       " 'attention',\n",
       " 'attorneys',\n",
       " 'attract',\n",
       " 'auction',\n",
       " 'audience',\n",
       " 'auditor',\n",
       " 'aug',\n",
       " 'august',\n",
       " 'authenticity',\n",
       " 'auto',\n",
       " 'autodesk',\n",
       " 'automaker',\n",
       " 'automakers',\n",
       " 'automobiles',\n",
       " 'autonavi',\n",
       " 'autos',\n",
       " 'available',\n",
       " 'ave',\n",
       " 'avenue',\n",
       " 'average',\n",
       " 'avoid',\n",
       " 'avoiding',\n",
       " 'avoids',\n",
       " 'await',\n",
       " 'awaited',\n",
       " 'awaiting',\n",
       " 'awaits',\n",
       " 'award',\n",
       " 'aware',\n",
       " 'away',\n",
       " 'awesome',\n",
       " 'awkward',\n",
       " 'axe',\n",
       " 'backdoor',\n",
       " 'backed',\n",
       " 'backers',\n",
       " 'backfire',\n",
       " 'backing',\n",
       " 'backlash',\n",
       " 'bacon',\n",
       " 'bad',\n",
       " 'badly',\n",
       " 'baffles',\n",
       " 'bag',\n",
       " 'baggage',\n",
       " 'bailout',\n",
       " 'bakes',\n",
       " 'balance',\n",
       " 'ballmer',\n",
       " 'baltimore',\n",
       " 'ban',\n",
       " 'bandwagon',\n",
       " 'bang',\n",
       " 'bank',\n",
       " 'banker',\n",
       " 'bankers',\n",
       " 'banking',\n",
       " 'bankrupt',\n",
       " 'banks',\n",
       " 'bar',\n",
       " 'barely',\n",
       " 'bargain',\n",
       " 'bargains',\n",
       " 'barges',\n",
       " 'barnes',\n",
       " 'barra',\n",
       " 'barracuda',\n",
       " 'barron',\n",
       " 'base',\n",
       " 'based',\n",
       " 'basics',\n",
       " 'basking',\n",
       " 'bats',\n",
       " 'battery',\n",
       " 'battle',\n",
       " 'bay',\n",
       " 'bba',\n",
       " 'bc',\n",
       " 'bdo',\n",
       " 'beans',\n",
       " 'bear',\n",
       " 'bearish',\n",
       " 'bears',\n",
       " 'beat',\n",
       " 'beatlemania',\n",
       " 'beats',\n",
       " 'beautiful',\n",
       " 'beefed',\n",
       " 'beefs',\n",
       " 'began',\n",
       " 'begin',\n",
       " 'beginnings',\n",
       " 'begins',\n",
       " 'behavior',\n",
       " 'behold',\n",
       " 'believe',\n",
       " 'believing',\n",
       " 'bell',\n",
       " 'ben',\n",
       " 'benchmark',\n",
       " 'beneficiary',\n",
       " 'benefit',\n",
       " 'benefits',\n",
       " 'benoit',\n",
       " 'benzinga',\n",
       " 'berman',\n",
       " 'bernanke',\n",
       " 'bernero',\n",
       " 'bernstein',\n",
       " 'best',\n",
       " 'bet',\n",
       " 'bets',\n",
       " 'better',\n",
       " 'betting',\n",
       " 'beverage',\n",
       " 'beware',\n",
       " 'bezos',\n",
       " 'bid',\n",
       " 'big',\n",
       " 'bigger',\n",
       " 'biggest',\n",
       " 'bil',\n",
       " 'bilingual',\n",
       " 'billing',\n",
       " 'billion',\n",
       " 'billionaire',\n",
       " 'billionaires',\n",
       " 'billions',\n",
       " 'biopharmaceuticals',\n",
       " 'biotech',\n",
       " 'bird',\n",
       " 'birdie',\n",
       " 'birds',\n",
       " 'birthday',\n",
       " 'bit',\n",
       " 'bite',\n",
       " 'bitsy',\n",
       " 'bitter',\n",
       " 'biz',\n",
       " 'bizarre',\n",
       " 'black',\n",
       " 'blackberry',\n",
       " 'blame',\n",
       " 'blamed',\n",
       " 'blames',\n",
       " 'blast',\n",
       " 'bleeding',\n",
       " 'blend',\n",
       " 'blesses',\n",
       " 'blessing',\n",
       " 'blinded',\n",
       " 'blitz',\n",
       " 'bln',\n",
       " 'block',\n",
       " 'blockbuster',\n",
       " 'blocker',\n",
       " 'blog',\n",
       " 'blogging',\n",
       " 'blogs',\n",
       " 'bloomberg',\n",
       " 'bloomin',\n",
       " 'blossom',\n",
       " 'blowout',\n",
       " 'blows',\n",
       " 'blunder',\n",
       " 'bmo',\n",
       " 'board',\n",
       " 'boards',\n",
       " 'boastful',\n",
       " 'bob',\n",
       " 'bobby',\n",
       " 'bodes',\n",
       " 'boffo',\n",
       " 'boils',\n",
       " 'bolstering',\n",
       " 'bolsters',\n",
       " 'bolts',\n",
       " 'bombed',\n",
       " 'bonanza',\n",
       " 'bond',\n",
       " 'bonds',\n",
       " 'bono',\n",
       " 'bonus',\n",
       " 'boo',\n",
       " 'book',\n",
       " 'books',\n",
       " 'boom',\n",
       " 'booming',\n",
       " 'boon',\n",
       " 'boost',\n",
       " 'boosted',\n",
       " 'boosts',\n",
       " 'boring',\n",
       " 'born',\n",
       " 'borrowing',\n",
       " 'boss',\n",
       " 'boston',\n",
       " 'botched',\n",
       " 'bought',\n",
       " 'boulder',\n",
       " 'bounce',\n",
       " 'bounces',\n",
       " 'bound',\n",
       " 'bounds',\n",
       " 'bow',\n",
       " 'bows',\n",
       " 'box',\n",
       " 'boys',\n",
       " 'brace',\n",
       " 'braces',\n",
       " 'bracing',\n",
       " 'brainchild',\n",
       " 'brakes',\n",
       " 'branding',\n",
       " 'brands',\n",
       " 'brazil',\n",
       " 'brazilian',\n",
       " 'break',\n",
       " 'breaking',\n",
       " 'breaks',\n",
       " 'breakup',\n",
       " 'breakâ',\n",
       " 'breath',\n",
       " 'breathless',\n",
       " 'breed',\n",
       " 'brewing',\n",
       " 'bridges',\n",
       " 'brief',\n",
       " 'briefcase',\n",
       " 'briefing',\n",
       " 'briefly',\n",
       " 'briefs',\n",
       " 'brien',\n",
       " 'brightens',\n",
       " 'bring',\n",
       " 'brings',\n",
       " 'broad',\n",
       " 'broadcom',\n",
       " 'broker',\n",
       " 'brokerages',\n",
       " 'brokers',\n",
       " 'brooklyn',\n",
       " 'brought',\n",
       " 'brown',\n",
       " 'browsing',\n",
       " 'bs',\n",
       " 'bubble',\n",
       " 'bucket',\n",
       " 'bucks',\n",
       " 'buddy',\n",
       " 'budget',\n",
       " 'buffett',\n",
       " 'build',\n",
       " 'building',\n",
       " 'builds',\n",
       " 'built',\n",
       " 'bulges',\n",
       " 'bulks',\n",
       " 'bull',\n",
       " 'bullard',\n",
       " 'bullish',\n",
       " 'bullishness',\n",
       " 'bulls',\n",
       " 'bump',\n",
       " 'bumps',\n",
       " 'bumpy',\n",
       " 'bundle',\n",
       " 'bungled',\n",
       " 'bungling',\n",
       " 'buoy',\n",
       " 'bureau',\n",
       " 'burgeoning',\n",
       " 'burger',\n",
       " 'burgers',\n",
       " 'burke',\n",
       " 'burned',\n",
       " 'burner',\n",
       " 'burnout',\n",
       " 'bursts',\n",
       " 'busiest',\n",
       " 'business',\n",
       " 'businesses',\n",
       " 'bust',\n",
       " 'busy',\n",
       " 'button',\n",
       " 'buy',\n",
       " 'buyer',\n",
       " 'buyers',\n",
       " 'buying',\n",
       " 'buyout',\n",
       " 'buys',\n",
       " 'buzz',\n",
       " 'buzzy',\n",
       " 'ca',\n",
       " 'cable',\n",
       " 'cabraser',\n",
       " 'cake',\n",
       " 'calendar',\n",
       " 'calif',\n",
       " 'california',\n",
       " 'calithera',\n",
       " 'called',\n",
       " 'calls',\n",
       " 'calm',\n",
       " 'cambridge',\n",
       " 'came',\n",
       " 'camer',\n",
       " 'camera',\n",
       " 'cameras',\n",
       " 'campaign',\n",
       " 'campaigns',\n",
       " 'canada',\n",
       " 'canceled',\n",
       " 'cancelled',\n",
       " 'cancer',\n",
       " 'candor',\n",
       " 'cantor',\n",
       " 'cap',\n",
       " 'capital',\n",
       " 'capitalism',\n",
       " 'capitalist',\n",
       " 'capitalists',\n",
       " 'capitalization',\n",
       " 'capitalize',\n",
       " 'capitalizes',\n",
       " 'capitol',\n",
       " 'caps',\n",
       " 'captivates',\n",
       " 'car',\n",
       " 'carbonite',\n",
       " 'care',\n",
       " 'career',\n",
       " 'careers',\n",
       " 'careful',\n",
       " 'carefully',\n",
       " 'carell',\n",
       " 'carmaker',\n",
       " 'carpet',\n",
       " 'carrier',\n",
       " 'carries',\n",
       " 'carrying',\n",
       " 'cars',\n",
       " 'carvana',\n",
       " 'case',\n",
       " 'cases',\n",
       " 'casey',\n",
       " 'cash',\n",
       " 'cashing',\n",
       " 'cashout',\n",
       " 'cassidy',\n",
       " 'cast',\n",
       " 'casting',\n",
       " 'casts',\n",
       " 'cat',\n",
       " 'catalyst',\n",
       " 'catch',\n",
       " 'catches',\n",
       " 'catchier',\n",
       " 'catching',\n",
       " 'cause',\n",
       " 'causes',\n",
       " 'caution',\n",
       " 'cautionary',\n",
       " 'cautious',\n",
       " 'caveat',\n",
       " 'caveats',\n",
       " 'cboe',\n",
       " 'cease',\n",
       " 'ceglia',\n",
       " 'ceiling',\n",
       " 'celebrants',\n",
       " 'celebrate',\n",
       " 'celebrates',\n",
       " 'celebration',\n",
       " 'cent',\n",
       " 'centa',\n",
       " 'center',\n",
       " 'centers',\n",
       " 'centric',\n",
       " 'cents',\n",
       " 'ceo',\n",
       " 'cfo',\n",
       " 'cha',\n",
       " 'chain',\n",
       " 'chains',\n",
       " 'chair',\n",
       " 'chairman',\n",
       " 'challenge',\n",
       " 'challenges',\n",
       " 'chamber',\n",
       " 'chan',\n",
       " 'chance',\n",
       " 'chances',\n",
       " 'change',\n",
       " 'changed',\n",
       " 'changes',\n",
       " 'channeladvisor',\n",
       " 'channels',\n",
       " 'character',\n",
       " 'characters',\n",
       " 'charges',\n",
       " 'charles',\n",
       " 'charleston',\n",
       " 'charms',\n",
       " 'chart',\n",
       " 'charts',\n",
       " 'chase',\n",
       " 'chasing',\n",
       " 'chat',\n",
       " 'cheap',\n",
       " 'cheaper',\n",
       " 'check',\n",
       " 'checks',\n",
       " 'cheers',\n",
       " 'chegg',\n",
       " 'chernin',\n",
       " 'cherokee',\n",
       " 'chest',\n",
       " 'chicago',\n",
       " 'chief',\n",
       " 'child',\n",
       " 'children',\n",
       " 'chime',\n",
       " 'china',\n",
       " 'chinese',\n",
       " 'chip',\n",
       " 'chirping',\n",
       " 'chocolate',\n",
       " 'choice',\n",
       " 'choices',\n",
       " 'chooses',\n",
       " 'chosen',\n",
       " 'chris',\n",
       " 'chrysler',\n",
       " 'chunk',\n",
       " 'churning',\n",
       " 'cia',\n",
       " 'cience',\n",
       " 'circle',\n",
       " 'circles',\n",
       " 'circling',\n",
       " 'circuit',\n",
       " 'circulating',\n",
       " 'cisco',\n",
       " 'cite',\n",
       " 'cited',\n",
       " 'cites',\n",
       " 'citi',\n",
       " 'cities',\n",
       " 'citigroup',\n",
       " 'citing',\n",
       " 'citizens',\n",
       " 'citizenship',\n",
       " 'city',\n",
       " 'clackamas',\n",
       " 'claim',\n",
       " 'claims',\n",
       " 'clamor',\n",
       " 'clamoring',\n",
       " 'clarifies',\n",
       " 'clash',\n",
       " 'clashes',\n",
       " 'class',\n",
       " 'clean',\n",
       " 'cleaned',\n",
       " 'clear',\n",
       " 'clears',\n",
       " 'clicks',\n",
       " 'clients',\n",
       " 'cliff',\n",
       " 'climb',\n",
       " 'climbing',\n",
       " 'climbs',\n",
       " 'clipped',\n",
       " 'cloaked',\n",
       " 'close',\n",
       " 'closed',\n",
       " 'closely',\n",
       " 'closer',\n",
       " 'closes',\n",
       " 'closing',\n",
       " 'clothing',\n",
       " 'cloud',\n",
       " 'clouds',\n",
       " 'club',\n",
       " 'clue',\n",
       " 'cmas',\n",
       " 'cmo',\n",
       " 'cnbc',\n",
       " 'cnn',\n",
       " 'coaster',\n",
       " 'coattails',\n",
       " 'coca',\n",
       " 'coconuts',\n",
       " 'coffee',\n",
       " 'cola',\n",
       " 'colbert',\n",
       " 'cold',\n",
       " 'coleman',\n",
       " 'collapse',\n",
       " 'columbia',\n",
       " 'column',\n",
       " 'com',\n",
       " 'comcast',\n",
       " 'come',\n",
       " 'comeback',\n",
       " 'comes',\n",
       " 'coming',\n",
       " 'commandments',\n",
       " 'commence',\n",
       " 'commencement',\n",
       " 'comment',\n",
       " 'commentary',\n",
       " 'comments',\n",
       " 'commerce',\n",
       " 'commission',\n",
       " 'commit',\n",
       " 'commitment',\n",
       " 'commitments',\n",
       " 'committed',\n",
       " 'committee',\n",
       " 'committees',\n",
       " 'common',\n",
       " 'communication',\n",
       " 'compact',\n",
       " 'compan',\n",
       " 'companies',\n",
       " 'company',\n",
       " 'comparable',\n",
       " 'compares',\n",
       " 'comparisons',\n",
       " 'compensate',\n",
       " 'compensation',\n",
       " 'compete',\n",
       " 'competing',\n",
       " 'competition',\n",
       " 'competitor',\n",
       " 'competitors',\n",
       " 'complaints',\n",
       " 'complete',\n",
       " 'completes',\n",
       " 'completion',\n",
       " 'complicated',\n",
       " 'computing',\n",
       " 'concedes',\n",
       " 'concern',\n",
       " 'concerning',\n",
       " 'concerns',\n",
       " 'concessions',\n",
       " 'conditions',\n",
       " 'conduct',\n",
       " 'conducts',\n",
       " 'cone',\n",
       " 'conference',\n",
       " 'confidence',\n",
       " 'confident',\n",
       " 'confidential',\n",
       " 'confidentially',\n",
       " 'conflict',\n",
       " 'conflicts',\n",
       " 'confront',\n",
       " 'confronts',\n",
       " 'confused',\n",
       " 'confusion',\n",
       " 'congress',\n",
       " 'congressional',\n",
       " 'congressman',\n",
       " 'congresswoman',\n",
       " 'connect',\n",
       " 'connected',\n",
       " 'connecting',\n",
       " 'connection',\n",
       " 'connects',\n",
       " 'conquer',\n",
       " 'cons',\n",
       " 'conscience',\n",
       " 'conscious',\n",
       " 'conservative',\n",
       " 'consider',\n",
       " 'consideration',\n",
       " 'considered',\n",
       " 'considering',\n",
       " 'considers',\n",
       " 'consistently',\n",
       " 'consolidate',\n",
       " 'conspiracy',\n",
       " 'consumer',\n",
       " 'consumers',\n",
       " 'contact',\n",
       " 'contacts',\n",
       " 'contender',\n",
       " 'content',\n",
       " 'context',\n",
       " 'continents',\n",
       " 'continue',\n",
       " 'continues',\n",
       " 'continuing',\n",
       " 'contracts',\n",
       " 'contradictions',\n",
       " 'contrast',\n",
       " 'contributed',\n",
       " 'control',\n",
       " 'controls',\n",
       " 'controversial',\n",
       " 'controversy',\n",
       " 'convention',\n",
       " 'convergex',\n",
       " 'convertible',\n",
       " 'conviction',\n",
       " 'coo',\n",
       " 'cook',\n",
       " 'cooking',\n",
       " 'cooks',\n",
       " 'cool',\n",
       " 'cooling',\n",
       " 'cools',\n",
       " 'copernican',\n",
       " 'copycats',\n",
       " 'corker',\n",
       " 'corp',\n",
       " 'corporate',\n",
       " 'corporation',\n",
       " 'corporations',\n",
       " 'correct',\n",
       " 'corrected',\n",
       " 'correspondence',\n",
       " 'cost',\n",
       " 'costliest',\n",
       " 'costly',\n",
       " 'costolo',\n",
       " 'costs',\n",
       " 'counsels',\n",
       " 'count',\n",
       " 'countdown',\n",
       " 'counterfeit',\n",
       " 'country',\n",
       " 'county',\n",
       " 'coupon',\n",
       " 'course',\n",
       " 'court',\n",
       " 'courting',\n",
       " 'courts',\n",
       " 'cover',\n",
       " 'coverage',\n",
       " 'covered',\n",
       " 'coveted',\n",
       " 'cows',\n",
       " 'cox',\n",
       " 'cpa',\n",
       " 'cppib',\n",
       " 'crackling',\n",
       " 'cracks',\n",
       " 'craft',\n",
       " 'crafts',\n",
       " 'crafty',\n",
       " 'cramer',\n",
       " 'crap',\n",
       " 'crash',\n",
       " 'crashes',\n",
       " 'crashlytics',\n",
       " 'crave',\n",
       " 'crawl',\n",
       " 'craze',\n",
       " 'crazy',\n",
       " 'create',\n",
       " 'created',\n",
       " 'creates',\n",
       " 'creating',\n",
       " 'creation',\n",
       " 'creator',\n",
       " 'creators',\n",
       " 'credit',\n",
       " 'creditors',\n",
       " 'criden',\n",
       " 'crime',\n",
       " 'crimp',\n",
       " 'crisis',\n",
       " 'critically',\n",
       " 'criticism',\n",
       " 'criticizes',\n",
       " 'critics',\n",
       " 'cromwell',\n",
       " 'crop',\n",
       " 'cross',\n",
       " 'crowd',\n",
       " 'crowds',\n",
       " 'crown',\n",
       " 'crucial',\n",
       " 'cruze',\n",
       " 'csi',\n",
       " 'cto',\n",
       " 'cuban',\n",
       " 'cue',\n",
       " 'culpa',\n",
       " 'curb',\n",
       " 'current',\n",
       " 'currently',\n",
       " 'curtain',\n",
       " 'custom',\n",
       " 'customer',\n",
       " 'customers',\n",
       " 'cut',\n",
       " 'cuts',\n",
       " 'cutting',\n",
       " 'cybersecurity',\n",
       " 'cynic',\n",
       " 'daily',\n",
       " 'dalmia',\n",
       " 'damage',\n",
       " 'damages',\n",
       " 'damp',\n",
       " 'dampens',\n",
       " 'damper',\n",
       " 'dan',\n",
       " 'dance',\n",
       " 'danny',\n",
       " 'daring',\n",
       " 'dark',\n",
       " 'darling',\n",
       " 'dashed',\n",
       " 'data',\n",
       " 'date',\n",
       " 'dating',\n",
       " 'dave',\n",
       " 'david',\n",
       " 'davis',\n",
       " 'day',\n",
       " 'days',\n",
       " 'dazzles',\n",
       " 'dazzling',\n",
       " 'dead',\n",
       " 'deal',\n",
       " 'dealers',\n",
       " 'dealpolitik',\n",
       " 'deals',\n",
       " 'debacle',\n",
       " 'debate',\n",
       " 'debated',\n",
       " 'debating',\n",
       " 'debt',\n",
       " 'debut',\n",
       " 'debuted',\n",
       " 'debuts',\n",
       " 'decade',\n",
       " 'decelerates',\n",
       " 'deceleration',\n",
       " 'decide',\n",
       " 'decides',\n",
       " 'decision',\n",
       " 'decisions',\n",
       " 'deck',\n",
       " 'declared',\n",
       " 'declares',\n",
       " 'decline',\n",
       " 'declines',\n",
       " 'declining',\n",
       " 'decreases',\n",
       " 'deduction',\n",
       " 'deemed',\n",
       " 'deepens',\n",
       " 'defies',\n",
       " 'definition',\n",
       " 'defriending',\n",
       " 'defy',\n",
       " 'defying',\n",
       " 'degree',\n",
       " 'delay',\n",
       " 'delayed',\n",
       " 'delaying',\n",
       " 'delays',\n",
       " 'delicate',\n",
       " 'delicious',\n",
       " 'delisting',\n",
       " 'deliver',\n",
       " 'delivered',\n",
       " 'delivering',\n",
       " 'delivers',\n",
       " 'delivery',\n",
       " 'demand',\n",
       " 'demandg',\n",
       " 'demands',\n",
       " 'demois',\n",
       " 'demolish',\n",
       " 'dems',\n",
       " 'denies',\n",
       " 'dent',\n",
       " 'dented',\n",
       " 'dentist',\n",
       " 'department',\n",
       " ...]"
      ]
     },
     "execution_count": 10,
     "metadata": {},
     "output_type": "execute_result"
    }
   ],
   "source": [
    "vectorizer.get_feature_names()\n",
    "#vectorizer.vocabulary_"
   ]
  },
  {
   "cell_type": "code",
   "execution_count": 11,
   "metadata": {},
   "outputs": [
    {
     "data": {
      "text/html": [
       "<div>\n",
       "<style scoped>\n",
       "    .dataframe tbody tr th:only-of-type {\n",
       "        vertical-align: middle;\n",
       "    }\n",
       "\n",
       "    .dataframe tbody tr th {\n",
       "        vertical-align: top;\n",
       "    }\n",
       "\n",
       "    .dataframe thead th {\n",
       "        text-align: right;\n",
       "    }\n",
       "</style>\n",
       "<table border=\"1\" class=\"dataframe\">\n",
       "  <thead>\n",
       "    <tr style=\"text-align: right;\">\n",
       "      <th></th>\n",
       "      <th>0</th>\n",
       "    </tr>\n",
       "  </thead>\n",
       "  <tbody>\n",
       "    <tr>\n",
       "      <th>œtwitter</th>\n",
       "      <td>4682</td>\n",
       "    </tr>\n",
       "    <tr>\n",
       "      <th>œquiet</th>\n",
       "      <td>4681</td>\n",
       "    </tr>\n",
       "    <tr>\n",
       "      <th>œmarried</th>\n",
       "      <td>4680</td>\n",
       "    </tr>\n",
       "    <tr>\n",
       "      <th>œlife</th>\n",
       "      <td>4679</td>\n",
       "    </tr>\n",
       "    <tr>\n",
       "      <th>œkick</th>\n",
       "      <td>4678</td>\n",
       "    </tr>\n",
       "  </tbody>\n",
       "</table>\n",
       "</div>"
      ],
      "text/plain": [
       "             0\n",
       "œtwitter  4682\n",
       "œquiet    4681\n",
       "œmarried  4680\n",
       "œlife     4679\n",
       "œkick     4678"
      ]
     },
     "execution_count": 11,
     "metadata": {},
     "output_type": "execute_result"
    }
   ],
   "source": [
    "pd.DataFrame.from_dict(vectorizer.vocabulary_, orient='index').sort_values(by=0, ascending=False).head()"
   ]
  },
  {
   "cell_type": "markdown",
   "metadata": {},
   "source": [
    "#### Transform to Document Term Matrix"
   ]
  },
  {
   "cell_type": "code",
   "execution_count": 12,
   "metadata": {},
   "outputs": [
    {
     "data": {
      "text/plain": [
       "<5301x4683 sparse matrix of type '<class 'numpy.int64'>'\n",
       "\twith 28952 stored elements in Compressed Sparse Row format>"
      ]
     },
     "execution_count": 12,
     "metadata": {},
     "output_type": "execute_result"
    }
   ],
   "source": [
    "dtm = vectorizer.transform(text_data)\n",
    "dtm"
   ]
  },
  {
   "cell_type": "code",
   "execution_count": 13,
   "metadata": {},
   "outputs": [
    {
     "data": {
      "text/plain": [
       "(5301, 4683)"
      ]
     },
     "execution_count": 13,
     "metadata": {},
     "output_type": "execute_result"
    }
   ],
   "source": [
    "Text_Features = pd.DataFrame(dtm.toarray(), columns=vectorizer.get_feature_names())\n",
    "Text_Features.shape"
   ]
  },
  {
   "cell_type": "code",
   "execution_count": 14,
   "metadata": {},
   "outputs": [],
   "source": [
    "#Text_Features.to_csv('TEXT_FEATURES.csv')"
   ]
  },
  {
   "cell_type": "code",
   "execution_count": 15,
   "metadata": {},
   "outputs": [
    {
     "data": {
      "text/plain": [
       "(5301, 4683)"
      ]
     },
     "execution_count": 15,
     "metadata": {},
     "output_type": "execute_result"
    }
   ],
   "source": [
    "Text_Features.shape"
   ]
  },
  {
   "cell_type": "code",
   "execution_count": 16,
   "metadata": {},
   "outputs": [
    {
     "data": {
      "text/html": [
       "<div>\n",
       "<style scoped>\n",
       "    .dataframe tbody tr th:only-of-type {\n",
       "        vertical-align: middle;\n",
       "    }\n",
       "\n",
       "    .dataframe tbody tr th {\n",
       "        vertical-align: top;\n",
       "    }\n",
       "\n",
       "    .dataframe thead th {\n",
       "        text-align: right;\n",
       "    }\n",
       "</style>\n",
       "<table border=\"1\" class=\"dataframe\">\n",
       "  <thead>\n",
       "    <tr style=\"text-align: right;\">\n",
       "      <th></th>\n",
       "      <th>abandons</th>\n",
       "      <th>abercrombie</th>\n",
       "      <th>ability</th>\n",
       "      <th>able</th>\n",
       "      <th>abound</th>\n",
       "      <th>abounding</th>\n",
       "      <th>accel</th>\n",
       "      <th>accelerate</th>\n",
       "      <th>acceleration</th>\n",
       "      <th>access</th>\n",
       "      <th>...</th>\n",
       "      <th>œkick</th>\n",
       "      <th>œlife</th>\n",
       "      <th>œmarried</th>\n",
       "      <th>œquiet</th>\n",
       "      <th>œtwitter</th>\n",
       "      <th>Word Count</th>\n",
       "      <th>IPO Period</th>\n",
       "      <th>Day of Week</th>\n",
       "      <th>PositiveScore</th>\n",
       "      <th>NegativeScore</th>\n",
       "    </tr>\n",
       "  </thead>\n",
       "  <tbody>\n",
       "    <tr>\n",
       "      <th>0</th>\n",
       "      <td>0</td>\n",
       "      <td>0</td>\n",
       "      <td>0</td>\n",
       "      <td>0</td>\n",
       "      <td>0</td>\n",
       "      <td>0</td>\n",
       "      <td>0</td>\n",
       "      <td>0</td>\n",
       "      <td>0</td>\n",
       "      <td>0</td>\n",
       "      <td>...</td>\n",
       "      <td>0</td>\n",
       "      <td>0</td>\n",
       "      <td>0</td>\n",
       "      <td>0</td>\n",
       "      <td>0</td>\n",
       "      <td>358</td>\n",
       "      <td>1</td>\n",
       "      <td>4</td>\n",
       "      <td>0.0</td>\n",
       "      <td>0.0</td>\n",
       "    </tr>\n",
       "    <tr>\n",
       "      <th>1</th>\n",
       "      <td>0</td>\n",
       "      <td>0</td>\n",
       "      <td>0</td>\n",
       "      <td>0</td>\n",
       "      <td>0</td>\n",
       "      <td>0</td>\n",
       "      <td>0</td>\n",
       "      <td>0</td>\n",
       "      <td>0</td>\n",
       "      <td>0</td>\n",
       "      <td>...</td>\n",
       "      <td>0</td>\n",
       "      <td>0</td>\n",
       "      <td>0</td>\n",
       "      <td>0</td>\n",
       "      <td>0</td>\n",
       "      <td>515</td>\n",
       "      <td>1</td>\n",
       "      <td>5</td>\n",
       "      <td>0.0</td>\n",
       "      <td>0.0</td>\n",
       "    </tr>\n",
       "    <tr>\n",
       "      <th>2</th>\n",
       "      <td>0</td>\n",
       "      <td>0</td>\n",
       "      <td>0</td>\n",
       "      <td>0</td>\n",
       "      <td>0</td>\n",
       "      <td>0</td>\n",
       "      <td>0</td>\n",
       "      <td>0</td>\n",
       "      <td>0</td>\n",
       "      <td>0</td>\n",
       "      <td>...</td>\n",
       "      <td>0</td>\n",
       "      <td>0</td>\n",
       "      <td>0</td>\n",
       "      <td>0</td>\n",
       "      <td>0</td>\n",
       "      <td>288</td>\n",
       "      <td>2</td>\n",
       "      <td>3</td>\n",
       "      <td>0.0</td>\n",
       "      <td>0.0</td>\n",
       "    </tr>\n",
       "    <tr>\n",
       "      <th>3</th>\n",
       "      <td>0</td>\n",
       "      <td>0</td>\n",
       "      <td>0</td>\n",
       "      <td>0</td>\n",
       "      <td>0</td>\n",
       "      <td>0</td>\n",
       "      <td>0</td>\n",
       "      <td>0</td>\n",
       "      <td>0</td>\n",
       "      <td>0</td>\n",
       "      <td>...</td>\n",
       "      <td>0</td>\n",
       "      <td>0</td>\n",
       "      <td>0</td>\n",
       "      <td>0</td>\n",
       "      <td>0</td>\n",
       "      <td>583</td>\n",
       "      <td>2</td>\n",
       "      <td>4</td>\n",
       "      <td>0.0</td>\n",
       "      <td>0.0</td>\n",
       "    </tr>\n",
       "    <tr>\n",
       "      <th>4</th>\n",
       "      <td>0</td>\n",
       "      <td>0</td>\n",
       "      <td>0</td>\n",
       "      <td>0</td>\n",
       "      <td>0</td>\n",
       "      <td>0</td>\n",
       "      <td>0</td>\n",
       "      <td>0</td>\n",
       "      <td>0</td>\n",
       "      <td>0</td>\n",
       "      <td>...</td>\n",
       "      <td>0</td>\n",
       "      <td>0</td>\n",
       "      <td>0</td>\n",
       "      <td>0</td>\n",
       "      <td>0</td>\n",
       "      <td>947</td>\n",
       "      <td>1</td>\n",
       "      <td>6</td>\n",
       "      <td>0.0</td>\n",
       "      <td>0.0</td>\n",
       "    </tr>\n",
       "  </tbody>\n",
       "</table>\n",
       "<p>5 rows × 4688 columns</p>\n",
       "</div>"
      ],
      "text/plain": [
       "   abandons  abercrombie  ability  able  abound  abounding  accel  accelerate  \\\n",
       "0         0            0        0     0       0          0      0           0   \n",
       "1         0            0        0     0       0          0      0           0   \n",
       "2         0            0        0     0       0          0      0           0   \n",
       "3         0            0        0     0       0          0      0           0   \n",
       "4         0            0        0     0       0          0      0           0   \n",
       "\n",
       "   acceleration  access      ...        œkick  œlife  œmarried  œquiet  \\\n",
       "0             0       0      ...            0      0         0       0   \n",
       "1             0       0      ...            0      0         0       0   \n",
       "2             0       0      ...            0      0         0       0   \n",
       "3             0       0      ...            0      0         0       0   \n",
       "4             0       0      ...            0      0         0       0   \n",
       "\n",
       "   œtwitter  Word Count  IPO Period  Day of Week  PositiveScore  NegativeScore  \n",
       "0         0         358           1            4            0.0            0.0  \n",
       "1         0         515           1            5            0.0            0.0  \n",
       "2         0         288           2            3            0.0            0.0  \n",
       "3         0         583           2            4            0.0            0.0  \n",
       "4         0         947           1            6            0.0            0.0  \n",
       "\n",
       "[5 rows x 4688 columns]"
      ]
     },
     "execution_count": 16,
     "metadata": {},
     "output_type": "execute_result"
    }
   ],
   "source": [
    "features = df[['Word Count', 'IPO Period', 'Day of Week', 'PositiveScore', 'NegativeScore']]\n",
    "features = pd.merge(Text_Features, features, left_index=True, right_index=True)\n",
    "features.head()"
   ]
  },
  {
   "cell_type": "code",
   "execution_count": 17,
   "metadata": {},
   "outputs": [],
   "source": [
    "X = features\n",
    "y = np.array(df['Label'].tolist())\n",
    "#y = np.array(df_woFB['Label'].tolist())"
   ]
  },
  {
   "cell_type": "code",
   "execution_count": 18,
   "metadata": {},
   "outputs": [],
   "source": [
    "from sklearn.preprocessing import StandardScaler\n",
    "X = StandardScaler().fit_transform(X)"
   ]
  },
  {
   "cell_type": "code",
   "execution_count": 19,
   "metadata": {},
   "outputs": [
    {
     "data": {
      "text/plain": [
       "PCA(copy=True, iterated_power='auto', n_components=0.95, random_state=None,\n",
       "  svd_solver='auto', tol=0.0, whiten=False)"
      ]
     },
     "execution_count": 19,
     "metadata": {},
     "output_type": "execute_result"
    }
   ],
   "source": [
    "from sklearn.decomposition import PCA\n",
    "pca = PCA(0.95)\n",
    "pca.fit(X)"
   ]
  },
  {
   "cell_type": "code",
   "execution_count": 20,
   "metadata": {},
   "outputs": [
    {
     "name": "stdout",
     "output_type": "stream",
     "text": [
      "Original shape:         (5301, 4688)\n",
      "Transformed shape:      (5301, 2114)\n"
     ]
    }
   ],
   "source": [
    "X_pca = pca.transform(X)\n",
    "print('Original shape:        ', X.shape)\n",
    "print('Transformed shape:     ', X_pca.shape)"
   ]
  },
  {
   "cell_type": "code",
   "execution_count": 21,
   "metadata": {},
   "outputs": [],
   "source": [
    "from sklearn.preprocessing import MinMaxScaler\n",
    "scaler = MinMaxScaler()\n",
    "scaler.fit(X_pca)\n",
    "X_pca = scaler.transform(X_pca)"
   ]
  },
  {
   "cell_type": "code",
   "execution_count": 22,
   "metadata": {},
   "outputs": [
    {
     "data": {
      "text/plain": [
       "array([ 0.00336809,  0.00230696,  0.0020607 , ...,  0.00012122,\n",
       "        0.00012097,  0.00012078])"
      ]
     },
     "execution_count": 22,
     "metadata": {},
     "output_type": "execute_result"
    }
   ],
   "source": [
    "#pca.n_components_\n",
    "pca.explained_variance_ratio_"
   ]
  },
  {
   "cell_type": "code",
   "execution_count": 70,
   "metadata": {},
   "outputs": [
    {
     "name": "stdout",
     "output_type": "stream",
     "text": [
      "(3975, 2114) (3975,)\n"
     ]
    }
   ],
   "source": [
    "from sklearn.cross_validation import train_test_split\n",
    "from sklearn.naive_bayes import MultinomialNB\n",
    "from sklearn import metrics\n",
    "\n",
    "#X_pca = Text_Features\n",
    "#y = np.array(df['Label'].tolist())\n",
    "#len(y)\n",
    "X_train, X_test, y_train, y_test = train_test_split(X_pca, y, test_size=0.25, random_state=33)\n",
    "print(X_train.shape, y_train.shape)"
   ]
  },
  {
   "cell_type": "code",
   "execution_count": 71,
   "metadata": {},
   "outputs": [],
   "source": [
    "nb = MultinomialNB()"
   ]
  },
  {
   "cell_type": "code",
   "execution_count": 72,
   "metadata": {},
   "outputs": [
    {
     "data": {
      "text/plain": [
       "array([[ 0.00122797,  0.03115839,  0.01650907, ...,  0.46465157,\n",
       "         0.4992451 ,  0.52342412],\n",
       "       [ 0.00151876,  0.03132399,  0.01255741, ...,  0.47080804,\n",
       "         0.49523861,  0.4924128 ],\n",
       "       [ 0.00158483,  0.03102054,  0.01232195, ...,  0.48164264,\n",
       "         0.5230021 ,  0.52626167],\n",
       "       ..., \n",
       "       [ 0.001827  ,  0.03031043,  0.01374816, ...,  0.45585687,\n",
       "         0.49424897,  0.49247519],\n",
       "       [ 0.00183808,  0.03113201,  0.01343208, ...,  0.42367749,\n",
       "         0.49064692,  0.53396802],\n",
       "       [ 0.00189596,  0.03098353,  0.01489412, ...,  0.47525333,\n",
       "         0.50108952,  0.51404668]])"
      ]
     },
     "execution_count": 72,
     "metadata": {},
     "output_type": "execute_result"
    }
   ],
   "source": [
    "X_pca"
   ]
  },
  {
   "cell_type": "code",
   "execution_count": 73,
   "metadata": {},
   "outputs": [
    {
     "data": {
      "text/plain": [
       "MultinomialNB(alpha=1.0, class_prior=None, fit_prior=True)"
      ]
     },
     "execution_count": 73,
     "metadata": {},
     "output_type": "execute_result"
    }
   ],
   "source": [
    "nb.fit(X_train, y_train)"
   ]
  },
  {
   "cell_type": "code",
   "execution_count": 74,
   "metadata": {},
   "outputs": [],
   "source": [
    "y_pred_class = nb.predict(X_test)"
   ]
  },
  {
   "cell_type": "code",
   "execution_count": 75,
   "metadata": {},
   "outputs": [
    {
     "data": {
      "text/plain": [
       "0.58069381598793368"
      ]
     },
     "execution_count": 75,
     "metadata": {},
     "output_type": "execute_result"
    }
   ],
   "source": [
    "#metrics.accuracy_score(y_test, y_pred_class)\n",
    "metrics.accuracy_score(y_test, y_pred_class)"
   ]
  },
  {
   "cell_type": "code",
   "execution_count": 76,
   "metadata": {},
   "outputs": [
    {
     "name": "stdout",
     "output_type": "stream",
     "text": [
      "             precision    recall  f1-score   support\n",
      "\n",
      "   Negative       0.58      1.00      0.73       770\n",
      "   Positive       0.00      0.00      0.00       556\n",
      "\n",
      "avg / total       0.34      0.58      0.43      1326\n",
      "\n"
     ]
    },
    {
     "name": "stderr",
     "output_type": "stream",
     "text": [
      "/home/mji/anaconda3/lib/python3.6/site-packages/sklearn/metrics/classification.py:1135: UndefinedMetricWarning: Precision and F-score are ill-defined and being set to 0.0 in labels with no predicted samples.\n",
      "  'precision', 'predicted', average, warn_for)\n"
     ]
    }
   ],
   "source": [
    "print(metrics.classification_report(y_test, y_pred_class))"
   ]
  },
  {
   "cell_type": "markdown",
   "metadata": {},
   "source": [
    "## Yellowbrick Classification Report"
   ]
  },
  {
   "cell_type": "code",
   "execution_count": 77,
   "metadata": {},
   "outputs": [
    {
     "name": "stderr",
     "output_type": "stream",
     "text": [
      "/home/mji/anaconda3/lib/python3.6/site-packages/sklearn/metrics/classification.py:1135: UndefinedMetricWarning: Precision and F-score are ill-defined and being set to 0.0 in labels with no predicted samples.\n",
      "  'precision', 'predicted', average, warn_for)\n"
     ]
    },
    {
     "data": {
      "image/png": "[encoded data removed]",
      "text/plain": [
       "<matplotlib.figure.Figure at 0x7f5017663978>"
      ]
     },
     "metadata": {},
     "output_type": "display_data"
    }
   ],
   "source": [
    "from yellowbrick.classifier import ClassificationReport\n",
    "bayes = MultinomialNB()\n",
    "visualizer = ClassificationReport(bayes, classes=['Negative', 'Positive'])\n",
    "visualizer.fit(X_train, y_train)\n",
    "visualizer.score(X_test, y_test)\n",
    "g = visualizer.poof()"
   ]
  },
  {
   "cell_type": "markdown",
   "metadata": {},
   "source": [
    "## Confusion Matrix"
   ]
  },
  {
   "cell_type": "code",
   "execution_count": 78,
   "metadata": {},
   "outputs": [
    {
     "data": {
      "image/png": "[encoded data removed]",
      "text/plain": [
       "<matplotlib.figure.Figure at 0x7f50175bacc0>"
      ]
     },
     "metadata": {},
     "output_type": "display_data"
    }
   ],
   "source": [
    "from sklearn.metrics import confusion_matrix\n",
    "cm = confusion_matrix(y_test, y_pred_class)\n",
    "sns.set(font_scale=1.5)\n",
    "\n",
    "ax = plt.subplot()\n",
    "sns.heatmap(cm, annot=True, ax=ax, fmt='g', cbar=False)\n",
    "\n",
    "\n",
    "ax.set_xlabel('Predicted')\n",
    "ax.set_ylabel('True')\n",
    "ax.set_title('Confusion Matrix')\n",
    "ax.xaxis.set_ticklabels(['Negative', 'Positive'])\n",
    "ax.yaxis.set_ticklabels(['Negative', 'Positive'])\n",
    "#plt.tight_layout()\n",
    "#plt.figure(figsize=(10,10))\n",
    "plt.show()"
   ]
  },
  {
   "cell_type": "code",
   "execution_count": 79,
   "metadata": {},
   "outputs": [],
   "source": [
    "from sklearn.svm import SVC\n",
    "svc = SVC(kernel='linear', C=1, gamma=1)\n",
    "svc.fit(X_train, y_train)\n",
    "svc.score(X_test, y_test)\n",
    "predicted = svc.predict(X_test)"
   ]
  },
  {
   "cell_type": "code",
   "execution_count": 80,
   "metadata": {},
   "outputs": [
    {
     "data": {
      "text/plain": [
       "0.6809954751131222"
      ]
     },
     "execution_count": 80,
     "metadata": {},
     "output_type": "execute_result"
    }
   ],
   "source": [
    "metrics.accuracy_score(y_test, predicted)"
   ]
  },
  {
   "cell_type": "code",
   "execution_count": 81,
   "metadata": {},
   "outputs": [
    {
     "name": "stdout",
     "output_type": "stream",
     "text": [
      "             precision    recall  f1-score   support\n",
      "\n",
      "   Negative       0.69      0.81      0.75       770\n",
      "   Positive       0.66      0.50      0.57       556\n",
      "\n",
      "avg / total       0.68      0.68      0.67      1326\n",
      "\n"
     ]
    }
   ],
   "source": [
    "print(metrics.classification_report(y_test, predicted))"
   ]
  },
  {
   "cell_type": "code",
   "execution_count": 82,
   "metadata": {},
   "outputs": [
    {
     "data": {
      "image/png": "[encoded data removed]",
      "text/plain": [
       "<matplotlib.figure.Figure at 0x7f50175cbdd8>"
      ]
     },
     "metadata": {},
     "output_type": "display_data"
    }
   ],
   "source": [
    "from yellowbrick.classifier import ClassificationReport\n",
    "svc = SVC(kernel='linear', C=1, gamma=1)\n",
    "visualizer = ClassificationReport(svc, classes=['Negative', 'Positive'])\n",
    "visualizer.fit(X_train, y_train)\n",
    "visualizer.score(X_test, y_test)\n",
    "g = visualizer.poof()"
   ]
  },
  {
   "cell_type": "code",
   "execution_count": 83,
   "metadata": {},
   "outputs": [
    {
     "data": {
      "image/png": "[encoded data removed]",
      "text/plain": [
       "<matplotlib.figure.Figure at 0x7f50177b92e8>"
      ]
     },
     "metadata": {},
     "output_type": "display_data"
    }
   ],
   "source": [
    "from sklearn.metrics import confusion_matrix\n",
    "cm = confusion_matrix(y_test, predicted)\n",
    "sns.set(font_scale=1.5)\n",
    "\n",
    "ax = plt.subplot()\n",
    "sns.heatmap(cm, annot=True, ax=ax, fmt='g', cbar=False)\n",
    "\n",
    "\n",
    "ax.set_xlabel('Predicted')\n",
    "ax.set_ylabel('True')\n",
    "ax.set_title('Confusion Matrix')\n",
    "ax.xaxis.set_ticklabels(['Negative', 'Positive'])\n",
    "ax.yaxis.set_ticklabels(['Negative', 'Positive'])\n",
    "#plt.tight_layout()\n",
    "#plt.figure(figsize=(10,10))\n",
    "plt.show()"
   ]
  },
  {
   "cell_type": "code",
   "execution_count": 84,
   "metadata": {},
   "outputs": [],
   "source": [
    "from sklearn.svm import LinearSVC\n",
    "LSVC = LinearSVC()\n",
    "LSVC.fit(X_train, y_train)\n",
    "LSVC.score(X_test, y_test)\n",
    "L_predicted = LSVC.predict(X_test)"
   ]
  },
  {
   "cell_type": "code",
   "execution_count": 85,
   "metadata": {},
   "outputs": [
    {
     "data": {
      "text/plain": [
       "0.72247360482654599"
      ]
     },
     "execution_count": 85,
     "metadata": {},
     "output_type": "execute_result"
    }
   ],
   "source": [
    "metrics.accuracy_score(y_test, L_predicted)"
   ]
  },
  {
   "cell_type": "code",
   "execution_count": 86,
   "metadata": {},
   "outputs": [
    {
     "name": "stdout",
     "output_type": "stream",
     "text": [
      "             precision    recall  f1-score   support\n",
      "\n",
      "   Negative       0.74      0.80      0.77       770\n",
      "   Positive       0.69      0.62      0.65       556\n",
      "\n",
      "avg / total       0.72      0.72      0.72      1326\n",
      "\n"
     ]
    }
   ],
   "source": [
    "print(metrics.classification_report(y_test, L_predicted))"
   ]
  },
  {
   "cell_type": "code",
   "execution_count": 87,
   "metadata": {},
   "outputs": [
    {
     "data": {
      "image/png": "[encoded data removed]",
      "text/plain": [
       "<matplotlib.figure.Figure at 0x7f50177b95c0>"
      ]
     },
     "metadata": {},
     "output_type": "display_data"
    }
   ],
   "source": [
    "from yellowbrick.classifier import ClassificationReport\n",
    "LSVC = LinearSVC()\n",
    "visualizer = ClassificationReport(LSVC, classes=['Negative', 'Positive'])\n",
    "visualizer.fit(X_train, y_train)\n",
    "visualizer.score(X_test, y_test)\n",
    "g = visualizer.poof()"
   ]
  },
  {
   "cell_type": "code",
   "execution_count": 88,
   "metadata": {},
   "outputs": [
    {
     "data": {
      "image/png": "[encoded data removed]",
      "text/plain": [
       "<matplotlib.figure.Figure at 0x7f50175eabe0>"
      ]
     },
     "metadata": {},
     "output_type": "display_data"
    }
   ],
   "source": [
    "from sklearn.metrics import confusion_matrix\n",
    "cm = confusion_matrix(y_test, L_predicted)\n",
    "sns.set(font_scale=1.5)\n",
    "\n",
    "ax = plt.subplot()\n",
    "sns.heatmap(cm, annot=True, ax=ax, fmt='g', cbar=False)\n",
    "\n",
    "\n",
    "ax.set_xlabel('Predicted')\n",
    "ax.set_ylabel('True')\n",
    "ax.set_title('Confusion Matrix')\n",
    "ax.xaxis.set_ticklabels(['Negative', 'Positive'])\n",
    "ax.yaxis.set_ticklabels(['Negative', 'Positive'])\n",
    "#plt.tight_layout()\n",
    "#plt.figure(figsize=(10,10))\n",
    "plt.show()"
   ]
  },
  {
   "cell_type": "markdown",
   "metadata": {},
   "source": [
    "## SGD"
   ]
  },
  {
   "cell_type": "code",
   "execution_count": 89,
   "metadata": {},
   "outputs": [
    {
     "name": "stderr",
     "output_type": "stream",
     "text": [
      "/home/mji/anaconda3/lib/python3.6/site-packages/sklearn/linear_model/stochastic_gradient.py:128: FutureWarning: max_iter and tol parameters have been added in <class 'sklearn.linear_model.stochastic_gradient.SGDClassifier'> in 0.19. If both are left unset, they default to max_iter=5 and tol=None. If tol is not None, max_iter defaults to max_iter=1000. From 0.21, default max_iter will be 1000, and default tol will be 1e-3.\n",
      "  \"and default tol will be 1e-3.\" % type(self), FutureWarning)\n"
     ]
    },
    {
     "data": {
      "text/plain": [
       "SGDClassifier(alpha=0.0001, average=False, class_weight=None, epsilon=0.1,\n",
       "       eta0=0.0, fit_intercept=True, l1_ratio=0.15,\n",
       "       learning_rate='optimal', loss='hinge', max_iter=None, n_iter=None,\n",
       "       n_jobs=1, penalty='l2', power_t=0.5, random_state=None,\n",
       "       shuffle=True, tol=None, verbose=0, warm_start=False)"
      ]
     },
     "execution_count": 89,
     "metadata": {},
     "output_type": "execute_result"
    }
   ],
   "source": [
    "from sklearn.linear_model import SGDClassifier\n",
    "sgd = SGDClassifier()\n",
    "sgd.fit(X_train, y_train)"
   ]
  },
  {
   "cell_type": "code",
   "execution_count": 90,
   "metadata": {},
   "outputs": [
    {
     "data": {
      "text/plain": [
       "0.41930618401206637"
      ]
     },
     "execution_count": 90,
     "metadata": {},
     "output_type": "execute_result"
    }
   ],
   "source": [
    "sgd.score(X_test, y_test)\n",
    "y_predicted = sgd.predict(X_test)\n",
    "metrics.accuracy_score(y_test, y_predicted)"
   ]
  },
  {
   "cell_type": "code",
   "execution_count": 91,
   "metadata": {},
   "outputs": [
    {
     "name": "stdout",
     "output_type": "stream",
     "text": [
      "             precision    recall  f1-score   support\n",
      "\n",
      "   Negative       0.00      0.00      0.00       770\n",
      "   Positive       0.42      1.00      0.59       556\n",
      "\n",
      "avg / total       0.18      0.42      0.25      1326\n",
      "\n"
     ]
    },
    {
     "name": "stderr",
     "output_type": "stream",
     "text": [
      "/home/mji/anaconda3/lib/python3.6/site-packages/sklearn/metrics/classification.py:1135: UndefinedMetricWarning: Precision and F-score are ill-defined and being set to 0.0 in labels with no predicted samples.\n",
      "  'precision', 'predicted', average, warn_for)\n"
     ]
    }
   ],
   "source": [
    "print(metrics.classification_report(y_test, y_predicted))"
   ]
  },
  {
   "cell_type": "code",
   "execution_count": 92,
   "metadata": {},
   "outputs": [
    {
     "name": "stderr",
     "output_type": "stream",
     "text": [
      "/home/mji/anaconda3/lib/python3.6/site-packages/sklearn/linear_model/stochastic_gradient.py:128: FutureWarning: max_iter and tol parameters have been added in <class 'sklearn.linear_model.stochastic_gradient.SGDClassifier'> in 0.19. If both are left unset, they default to max_iter=5 and tol=None. If tol is not None, max_iter defaults to max_iter=1000. From 0.21, default max_iter will be 1000, and default tol will be 1e-3.\n",
      "  \"and default tol will be 1e-3.\" % type(self), FutureWarning)\n",
      "/home/mji/anaconda3/lib/python3.6/site-packages/sklearn/metrics/classification.py:1135: UndefinedMetricWarning: Precision and F-score are ill-defined and being set to 0.0 in labels with no predicted samples.\n",
      "  'precision', 'predicted', average, warn_for)\n"
     ]
    },
    {
     "data": {
      "image/png": "[encoded data removed]",
      "text/plain": [
       "<matplotlib.figure.Figure at 0x7f501782cb38>"
      ]
     },
     "metadata": {},
     "output_type": "display_data"
    }
   ],
   "source": [
    "from yellowbrick.classifier import ClassificationReport\n",
    "sgd = SGDClassifier()\n",
    "visualizer = ClassificationReport(sgd, classes=['Negative', 'Positive'])\n",
    "visualizer.fit(X_train, y_train)\n",
    "visualizer.score(X_test, y_test)\n",
    "g = visualizer.poof()"
   ]
  },
  {
   "cell_type": "code",
   "execution_count": 93,
   "metadata": {},
   "outputs": [
    {
     "data": {
      "image/png": "[encoded data removed]",
      "text/plain": [
       "<matplotlib.figure.Figure at 0x7f50175ea710>"
      ]
     },
     "metadata": {},
     "output_type": "display_data"
    }
   ],
   "source": [
    "from sklearn.metrics import confusion_matrix\n",
    "cm = confusion_matrix(y_test, y_predicted)\n",
    "sns.set(font_scale=1.5)\n",
    "\n",
    "ax = plt.subplot()\n",
    "sns.heatmap(cm, annot=True, ax=ax, fmt='g', cbar=False)\n",
    "\n",
    "\n",
    "ax.set_xlabel('Predicted')\n",
    "ax.set_ylabel('True')\n",
    "ax.set_title('Confusion Matrix')\n",
    "ax.xaxis.set_ticklabels(['Negative', 'Positive'])\n",
    "ax.yaxis.set_ticklabels(['Negative', 'Positive'])\n",
    "#plt.tight_layout()\n",
    "#plt.figure(figsize=(10,10))\n",
    "plt.show()"
   ]
  },
  {
   "cell_type": "code",
   "execution_count": null,
   "metadata": {},
   "outputs": [],
   "source": []
  }
 ],
 "metadata": {
  "kernelspec": {
   "display_name": "Python 3",
   "language": "python",
   "name": "python3"
  },
  "language_info": {
   "codemirror_mode": {
    "name": "ipython",
    "version": 3
   },
   "file_extension": ".py",
   "mimetype": "text/x-python",
   "name": "python",
   "nbconvert_exporter": "python",
   "pygments_lexer": "ipython3",
   "version": "3.6.3"
  }
 },
 "nbformat": 4,
 "nbformat_minor": 2
}
