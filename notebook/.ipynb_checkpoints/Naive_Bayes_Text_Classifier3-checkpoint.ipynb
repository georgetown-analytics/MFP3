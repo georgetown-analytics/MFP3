{
 "cells": [
  {
   "cell_type": "code",
   "execution_count": 2,
   "metadata": {
    "slideshow": {
     "slide_type": "fragment"
    }
   },
   "outputs": [],
   "source": [
    "%matplotlib inline\n",
    "import matplotlib.pyplot as plt\n",
    "import seaborn as sns\n",
    "sns.set(font_scale=1.5)\n",
    "import pandas as pd\n",
    "import numpy as np\n",
    "from sklearn.feature_extraction.text import CountVectorizer"
   ]
  },
  {
   "cell_type": "markdown",
   "metadata": {},
   "source": [
    "# Multinomial Naive Bayes on Headlines Only"
   ]
  },
  {
   "cell_type": "code",
   "execution_count": 4,
   "metadata": {},
   "outputs": [
    {
     "data": {
      "text/plain": [
       "Facebook          1977\n",
       "Twitter            902\n",
       "Alibaba            544\n",
       "Groupon            426\n",
       "General Motors     368\n",
       "LinkedIn           193\n",
       "Snapchat           185\n",
       "Blue Apron         125\n",
       "Fitbit             114\n",
       "Etsy               104\n",
       "Shake Shack        103\n",
       "GoPro               91\n",
       "Workday             90\n",
       "Ferrari             46\n",
       "Stitch Fix          33\n",
       "Name: Company, dtype: int64"
      ]
     },
     "execution_count": 4,
     "metadata": {},
     "output_type": "execute_result"
    }
   ],
   "source": [
    "df = pd.read_csv('../../../features.csv', sep='|', index_col=0)\n",
    "df['Company'].value_counts()"
   ]
  },
  {
   "cell_type": "code",
   "execution_count": 5,
   "metadata": {},
   "outputs": [
    {
     "data": {
      "text/html": [
       "<div>\n",
       "<style scoped>\n",
       "    .dataframe tbody tr th:only-of-type {\n",
       "        vertical-align: middle;\n",
       "    }\n",
       "\n",
       "    .dataframe tbody tr th {\n",
       "        vertical-align: top;\n",
       "    }\n",
       "\n",
       "    .dataframe thead th {\n",
       "        text-align: right;\n",
       "    }\n",
       "</style>\n",
       "<table border=\"1\" class=\"dataframe\">\n",
       "  <thead>\n",
       "    <tr style=\"text-align: right;\">\n",
       "      <th></th>\n",
       "      <th>Headline</th>\n",
       "      <th>Source</th>\n",
       "      <th>Date</th>\n",
       "      <th>Word Count</th>\n",
       "      <th>Company</th>\n",
       "      <th>Industry</th>\n",
       "      <th>IPO Period</th>\n",
       "      <th>Day of Week</th>\n",
       "      <th>Source Tier</th>\n",
       "      <th>PositiveScore</th>\n",
       "      <th>...</th>\n",
       "      <th>Mngr2</th>\n",
       "      <th>Mngr3</th>\n",
       "      <th>Mngr4</th>\n",
       "      <th>Mngr5</th>\n",
       "      <th>Mngr6</th>\n",
       "      <th>Offer Date +90</th>\n",
       "      <th>Date_y</th>\n",
       "      <th>Close +90</th>\n",
       "      <th>% Px Chng +90</th>\n",
       "      <th>Label</th>\n",
       "    </tr>\n",
       "  </thead>\n",
       "  <tbody>\n",
       "    <tr>\n",
       "      <th>0</th>\n",
       "      <td>FACEBOOK ROLLS OUT NEW ADS TO WOO MADISON AVEN...</td>\n",
       "      <td>Aberdeen American News</td>\n",
       "      <td>2012-02-29</td>\n",
       "      <td>358</td>\n",
       "      <td>Facebook</td>\n",
       "      <td>Technology</td>\n",
       "      <td>1</td>\n",
       "      <td>4</td>\n",
       "      <td>4</td>\n",
       "      <td>0.0</td>\n",
       "      <td>...</td>\n",
       "      <td>J.P. Morgan</td>\n",
       "      <td>Goldman Sachs</td>\n",
       "      <td>NaN</td>\n",
       "      <td>NaN</td>\n",
       "      <td>NaN</td>\n",
       "      <td>2012-08-16</td>\n",
       "      <td>2012-08-16</td>\n",
       "      <td>19.87</td>\n",
       "      <td>-0.480251</td>\n",
       "      <td>Negative</td>\n",
       "    </tr>\n",
       "    <tr>\n",
       "      <th>1</th>\n",
       "      <td>FACEBOOK PRICES ITS STOCK AT $38 A SHARE FOR IPO</td>\n",
       "      <td>Aberdeen American News</td>\n",
       "      <td>2012-05-17</td>\n",
       "      <td>515</td>\n",
       "      <td>Facebook</td>\n",
       "      <td>Technology</td>\n",
       "      <td>1</td>\n",
       "      <td>5</td>\n",
       "      <td>4</td>\n",
       "      <td>0.0</td>\n",
       "      <td>...</td>\n",
       "      <td>J.P. Morgan</td>\n",
       "      <td>Goldman Sachs</td>\n",
       "      <td>NaN</td>\n",
       "      <td>NaN</td>\n",
       "      <td>NaN</td>\n",
       "      <td>2012-08-16</td>\n",
       "      <td>2012-08-16</td>\n",
       "      <td>19.87</td>\n",
       "      <td>-0.480251</td>\n",
       "      <td>Negative</td>\n",
       "    </tr>\n",
       "    <tr>\n",
       "      <th>2</th>\n",
       "      <td>REGULATORS LOOKING INTO MORGAN STANLEY ROLE IN...</td>\n",
       "      <td>Aberdeen American News</td>\n",
       "      <td>2012-05-22</td>\n",
       "      <td>288</td>\n",
       "      <td>Facebook</td>\n",
       "      <td>Technology</td>\n",
       "      <td>2</td>\n",
       "      <td>3</td>\n",
       "      <td>4</td>\n",
       "      <td>0.0</td>\n",
       "      <td>...</td>\n",
       "      <td>J.P. Morgan</td>\n",
       "      <td>Goldman Sachs</td>\n",
       "      <td>NaN</td>\n",
       "      <td>NaN</td>\n",
       "      <td>NaN</td>\n",
       "      <td>2012-08-16</td>\n",
       "      <td>2012-08-16</td>\n",
       "      <td>19.87</td>\n",
       "      <td>-0.480251</td>\n",
       "      <td>Negative</td>\n",
       "    </tr>\n",
       "    <tr>\n",
       "      <th>3</th>\n",
       "      <td>FACEBOOK, MORGAN STANLEY FACE CLASS-ACTION SUI...</td>\n",
       "      <td>Aberdeen American News</td>\n",
       "      <td>2012-05-23</td>\n",
       "      <td>583</td>\n",
       "      <td>Facebook</td>\n",
       "      <td>Technology</td>\n",
       "      <td>2</td>\n",
       "      <td>4</td>\n",
       "      <td>4</td>\n",
       "      <td>0.0</td>\n",
       "      <td>...</td>\n",
       "      <td>J.P. Morgan</td>\n",
       "      <td>Goldman Sachs</td>\n",
       "      <td>NaN</td>\n",
       "      <td>NaN</td>\n",
       "      <td>NaN</td>\n",
       "      <td>2012-08-16</td>\n",
       "      <td>2012-08-16</td>\n",
       "      <td>19.87</td>\n",
       "      <td>-0.480251</td>\n",
       "      <td>Negative</td>\n",
       "    </tr>\n",
       "    <tr>\n",
       "      <th>4</th>\n",
       "      <td>FAQ: Facebook's IPO</td>\n",
       "      <td>Abilene Reporter-News</td>\n",
       "      <td>2012-02-03</td>\n",
       "      <td>947</td>\n",
       "      <td>Facebook</td>\n",
       "      <td>Technology</td>\n",
       "      <td>1</td>\n",
       "      <td>6</td>\n",
       "      <td>4</td>\n",
       "      <td>0.0</td>\n",
       "      <td>...</td>\n",
       "      <td>J.P. Morgan</td>\n",
       "      <td>Goldman Sachs</td>\n",
       "      <td>NaN</td>\n",
       "      <td>NaN</td>\n",
       "      <td>NaN</td>\n",
       "      <td>2012-08-16</td>\n",
       "      <td>2012-08-16</td>\n",
       "      <td>19.87</td>\n",
       "      <td>-0.480251</td>\n",
       "      <td>Negative</td>\n",
       "    </tr>\n",
       "  </tbody>\n",
       "</table>\n",
       "<p>5 rows × 36 columns</p>\n",
       "</div>"
      ],
      "text/plain": [
       "                                            Headline                  Source  \\\n",
       "0  FACEBOOK ROLLS OUT NEW ADS TO WOO MADISON AVEN...  Aberdeen American News   \n",
       "1   FACEBOOK PRICES ITS STOCK AT $38 A SHARE FOR IPO  Aberdeen American News   \n",
       "2  REGULATORS LOOKING INTO MORGAN STANLEY ROLE IN...  Aberdeen American News   \n",
       "3  FACEBOOK, MORGAN STANLEY FACE CLASS-ACTION SUI...  Aberdeen American News   \n",
       "4                                FAQ: Facebook's IPO   Abilene Reporter-News   \n",
       "\n",
       "         Date  Word Count   Company    Industry  IPO Period  Day of Week  \\\n",
       "0  2012-02-29         358  Facebook  Technology           1            4   \n",
       "1  2012-05-17         515  Facebook  Technology           1            5   \n",
       "2  2012-05-22         288  Facebook  Technology           2            3   \n",
       "3  2012-05-23         583  Facebook  Technology           2            4   \n",
       "4  2012-02-03         947  Facebook  Technology           1            6   \n",
       "\n",
       "   Source Tier  PositiveScore    ...           Mngr2          Mngr3  Mngr4  \\\n",
       "0            4            0.0    ...     J.P. Morgan  Goldman Sachs    NaN   \n",
       "1            4            0.0    ...     J.P. Morgan  Goldman Sachs    NaN   \n",
       "2            4            0.0    ...     J.P. Morgan  Goldman Sachs    NaN   \n",
       "3            4            0.0    ...     J.P. Morgan  Goldman Sachs    NaN   \n",
       "4            4            0.0    ...     J.P. Morgan  Goldman Sachs    NaN   \n",
       "\n",
       "   Mngr5  Mngr6  Offer Date +90      Date_y Close +90 % Px Chng +90     Label  \n",
       "0    NaN    NaN      2012-08-16  2012-08-16     19.87     -0.480251  Negative  \n",
       "1    NaN    NaN      2012-08-16  2012-08-16     19.87     -0.480251  Negative  \n",
       "2    NaN    NaN      2012-08-16  2012-08-16     19.87     -0.480251  Negative  \n",
       "3    NaN    NaN      2012-08-16  2012-08-16     19.87     -0.480251  Negative  \n",
       "4    NaN    NaN      2012-08-16  2012-08-16     19.87     -0.480251  Negative  \n",
       "\n",
       "[5 rows x 36 columns]"
      ]
     },
     "execution_count": 5,
     "metadata": {},
     "output_type": "execute_result"
    }
   ],
   "source": [
    "df.head()"
   ]
  },
  {
   "cell_type": "markdown",
   "metadata": {},
   "source": [
    "## Tried Removing Facebook Since it Represented a Disproportionate Number of Instances"
   ]
  },
  {
   "cell_type": "code",
   "execution_count": 380,
   "metadata": {},
   "outputs": [],
   "source": [
    "#df_woFB = df[df['Company'] != 'Facebook']\n",
    "#df_woFB['Company'].value_counts()"
   ]
  },
  {
   "cell_type": "code",
   "execution_count": 6,
   "metadata": {},
   "outputs": [
    {
     "data": {
      "text/plain": [
       "0    FACEBOOK ROLLS OUT NEW ADS TO WOO MADISON AVEN...\n",
       "1    FACEBOOK PRICES ITS STOCK AT $NUM_ A SHARE FOR...\n",
       "2    REGULATORS LOOKING INTO MORGAN STANLEY ROLE IN...\n",
       "3    FACEBOOK, MORGAN STANLEY FACE CLASS-ACTION SUI...\n",
       "4                                  FAQ: Facebook's IPO\n",
       "Name: Headline, dtype: object"
      ]
     },
     "execution_count": 6,
     "metadata": {},
     "output_type": "execute_result"
    }
   ],
   "source": [
    "## Replacing all the numbers in the text to 'NUM_' to simplify and reduce total featues\n",
    "text_data = df['Headline'].replace('\\d+', 'NUM_', regex=True)\n",
    "#text_data = df_woFB['Headline'].replace('\\d+', 'NUM_', regex=True)\n",
    "text_data.head()"
   ]
  },
  {
   "cell_type": "code",
   "execution_count": 7,
   "metadata": {},
   "outputs": [],
   "source": [
    "vectorizer = CountVectorizer(analyzer='word', stop_words='english')"
   ]
  },
  {
   "cell_type": "code",
   "execution_count": 8,
   "metadata": {},
   "outputs": [
    {
     "data": {
      "text/plain": [
       "CountVectorizer(analyzer='word', binary=False, decode_error='strict',\n",
       "        dtype=<class 'numpy.int64'>, encoding='utf-8', input='content',\n",
       "        lowercase=True, max_df=1.0, max_features=None, min_df=1,\n",
       "        ngram_range=(1, 1), preprocessor=None, stop_words='english',\n",
       "        strip_accents=None, token_pattern='(?u)\\\\b\\\\w\\\\w+\\\\b',\n",
       "        tokenizer=None, vocabulary=None)"
      ]
     },
     "execution_count": 8,
     "metadata": {},
     "output_type": "execute_result"
    }
   ],
   "source": [
    "vectorizer.fit(text_data)"
   ]
  },
  {
   "cell_type": "code",
   "execution_count": 9,
   "metadata": {},
   "outputs": [
    {
     "data": {
      "text/plain": [
       "['abandons',\n",
       " 'abercrombie',\n",
       " 'ability',\n",
       " 'able',\n",
       " 'abound',\n",
       " 'abounding',\n",
       " 'accel',\n",
       " 'accelerate',\n",
       " 'acceleration',\n",
       " 'access',\n",
       " 'accessibility',\n",
       " 'accommodations',\n",
       " 'according',\n",
       " 'account',\n",
       " 'accounting',\n",
       " 'accounts',\n",
       " 'accusations',\n",
       " 'accused',\n",
       " 'achievements',\n",
       " 'achilles',\n",
       " 'ackaman',\n",
       " 'acquired',\n",
       " 'acquisition',\n",
       " 'acquisitions',\n",
       " 'acsoi',\n",
       " 'act',\n",
       " 'action',\n",
       " 'actions',\n",
       " 'active',\n",
       " 'activity',\n",
       " 'ad',\n",
       " 'adapt',\n",
       " 'add',\n",
       " 'added',\n",
       " 'adding',\n",
       " 'additional',\n",
       " 'address',\n",
       " 'addressed',\n",
       " 'addressing',\n",
       " 'adds',\n",
       " 'admits',\n",
       " 'adp',\n",
       " 'adrs',\n",
       " 'ads',\n",
       " 'advance',\n",
       " 'adventure',\n",
       " 'advertis',\n",
       " 'advertisers',\n",
       " 'advertisi',\n",
       " 'advertising',\n",
       " 'advice',\n",
       " 'advise',\n",
       " 'adviser',\n",
       " 'advisers',\n",
       " 'advisory',\n",
       " 'advocates',\n",
       " 'affair',\n",
       " 'affect',\n",
       " 'affected',\n",
       " 'affects',\n",
       " 'affordable',\n",
       " 'aflutter',\n",
       " 'afraid',\n",
       " 'aftermath',\n",
       " 'aftershocks',\n",
       " 'age',\n",
       " 'agency',\n",
       " 'agenda',\n",
       " 'agent',\n",
       " 'aggregate',\n",
       " 'aggressive',\n",
       " 'ago',\n",
       " 'agreements',\n",
       " 'agrees',\n",
       " 'ah',\n",
       " 'ahead',\n",
       " 'ailing',\n",
       " 'aim',\n",
       " 'aiming',\n",
       " 'aims',\n",
       " 'ain',\n",
       " 'air',\n",
       " 'airlines',\n",
       " 'akerson',\n",
       " 'alarms',\n",
       " 'alert',\n",
       " 'alibaba',\n",
       " 'alienate',\n",
       " 'allay',\n",
       " 'allee',\n",
       " 'allege',\n",
       " 'alleged',\n",
       " 'alleges',\n",
       " 'alleging',\n",
       " 'allen',\n",
       " 'alleviate',\n",
       " 'allies',\n",
       " 'allocated',\n",
       " 'allotment',\n",
       " 'allowed',\n",
       " 'allows',\n",
       " 'allure',\n",
       " 'alternative',\n",
       " 'alternatives',\n",
       " 'alters',\n",
       " 'alto',\n",
       " 'alumni',\n",
       " 'alwaleed',\n",
       " 'amazon',\n",
       " 'ambitions',\n",
       " 'ambitious',\n",
       " 'amended',\n",
       " 'amendment',\n",
       " 'amends',\n",
       " 'america',\n",
       " 'american',\n",
       " 'americans',\n",
       " 'amid',\n",
       " 'amped',\n",
       " 'amr',\n",
       " 'analy',\n",
       " 'analysis',\n",
       " 'analyst',\n",
       " 'analysts',\n",
       " 'analytics',\n",
       " 'analyze',\n",
       " 'analyzes',\n",
       " 'andrew',\n",
       " 'anemic',\n",
       " 'anger',\n",
       " 'angie',\n",
       " 'angry',\n",
       " 'anniversary',\n",
       " 'annotated',\n",
       " 'announce',\n",
       " 'announced',\n",
       " 'announcement',\n",
       " 'announces',\n",
       " 'annual',\n",
       " 'answer',\n",
       " 'answers',\n",
       " 'ante',\n",
       " 'anti',\n",
       " 'anticipated',\n",
       " 'anticipation',\n",
       " 'anticlimactic',\n",
       " 'anxiety',\n",
       " 'aol',\n",
       " 'ap',\n",
       " 'apes',\n",
       " 'apiece',\n",
       " 'aplenty',\n",
       " 'apologies',\n",
       " 'apologizes',\n",
       " 'apology',\n",
       " 'app',\n",
       " 'apparel',\n",
       " 'appdynamics',\n",
       " 'appeal',\n",
       " 'appear',\n",
       " 'appears',\n",
       " 'appetite',\n",
       " 'appetites',\n",
       " 'applauds',\n",
       " 'apple',\n",
       " 'appoints',\n",
       " 'appreciation',\n",
       " 'approach',\n",
       " 'approaches',\n",
       " 'approx',\n",
       " 'apps',\n",
       " 'april',\n",
       " 'apron',\n",
       " 'architect',\n",
       " 'area',\n",
       " 'areas',\n",
       " 'aren',\n",
       " 'arena',\n",
       " 'argues',\n",
       " 'arise',\n",
       " 'arizona',\n",
       " 'arrangement',\n",
       " 'arrive',\n",
       " 'arrived',\n",
       " 'arrives',\n",
       " 'arrogance',\n",
       " 'arrow',\n",
       " 'art',\n",
       " 'articles',\n",
       " 'artisanal',\n",
       " 'artist',\n",
       " 'artists',\n",
       " 'ashton',\n",
       " 'asia',\n",
       " 'asian',\n",
       " 'aside',\n",
       " 'ask',\n",
       " 'asked',\n",
       " 'asking',\n",
       " 'asks',\n",
       " 'aspirations',\n",
       " 'assailed',\n",
       " 'asset',\n",
       " 'assets',\n",
       " 'assigned',\n",
       " 'associated',\n",
       " 'associates',\n",
       " 'assured',\n",
       " 'atd',\n",
       " 'atl',\n",
       " 'attack',\n",
       " 'attempts',\n",
       " 'attendees',\n",
       " 'attention',\n",
       " 'attorneys',\n",
       " 'attract',\n",
       " 'auction',\n",
       " 'audience',\n",
       " 'auditor',\n",
       " 'aug',\n",
       " 'august',\n",
       " 'authenticity',\n",
       " 'auto',\n",
       " 'autodesk',\n",
       " 'automaker',\n",
       " 'automakers',\n",
       " 'automobiles',\n",
       " 'autonavi',\n",
       " 'autos',\n",
       " 'available',\n",
       " 'ave',\n",
       " 'avenue',\n",
       " 'average',\n",
       " 'avoid',\n",
       " 'avoiding',\n",
       " 'avoids',\n",
       " 'await',\n",
       " 'awaited',\n",
       " 'awaiting',\n",
       " 'awaits',\n",
       " 'award',\n",
       " 'aware',\n",
       " 'away',\n",
       " 'awesome',\n",
       " 'awkward',\n",
       " 'axe',\n",
       " 'backdoor',\n",
       " 'backed',\n",
       " 'backers',\n",
       " 'backfire',\n",
       " 'backing',\n",
       " 'backlash',\n",
       " 'bacon',\n",
       " 'bad',\n",
       " 'badly',\n",
       " 'baffles',\n",
       " 'bag',\n",
       " 'baggage',\n",
       " 'bailout',\n",
       " 'bakes',\n",
       " 'balance',\n",
       " 'ballmer',\n",
       " 'baltimore',\n",
       " 'ban',\n",
       " 'bandwagon',\n",
       " 'bang',\n",
       " 'bank',\n",
       " 'banker',\n",
       " 'bankers',\n",
       " 'banking',\n",
       " 'bankrupt',\n",
       " 'banks',\n",
       " 'bar',\n",
       " 'barely',\n",
       " 'bargain',\n",
       " 'bargains',\n",
       " 'barges',\n",
       " 'barnes',\n",
       " 'barra',\n",
       " 'barracuda',\n",
       " 'barron',\n",
       " 'base',\n",
       " 'based',\n",
       " 'basics',\n",
       " 'basking',\n",
       " 'bats',\n",
       " 'battery',\n",
       " 'battle',\n",
       " 'bay',\n",
       " 'bba',\n",
       " 'bc',\n",
       " 'bdo',\n",
       " 'beans',\n",
       " 'bear',\n",
       " 'bearish',\n",
       " 'bears',\n",
       " 'beat',\n",
       " 'beatlemania',\n",
       " 'beats',\n",
       " 'beautiful',\n",
       " 'beefed',\n",
       " 'beefs',\n",
       " 'began',\n",
       " 'begin',\n",
       " 'beginnings',\n",
       " 'begins',\n",
       " 'behavior',\n",
       " 'behold',\n",
       " 'believe',\n",
       " 'believing',\n",
       " 'bell',\n",
       " 'ben',\n",
       " 'benchmark',\n",
       " 'beneficiary',\n",
       " 'benefit',\n",
       " 'benefits',\n",
       " 'benoit',\n",
       " 'benzinga',\n",
       " 'berman',\n",
       " 'bernanke',\n",
       " 'bernero',\n",
       " 'bernstein',\n",
       " 'best',\n",
       " 'bet',\n",
       " 'bets',\n",
       " 'better',\n",
       " 'betting',\n",
       " 'beverage',\n",
       " 'beware',\n",
       " 'bezos',\n",
       " 'bid',\n",
       " 'big',\n",
       " 'bigger',\n",
       " 'biggest',\n",
       " 'bil',\n",
       " 'bilingual',\n",
       " 'billing',\n",
       " 'billion',\n",
       " 'billionaire',\n",
       " 'billionaires',\n",
       " 'billions',\n",
       " 'biopharmaceuticals',\n",
       " 'biotech',\n",
       " 'bird',\n",
       " 'birdie',\n",
       " 'birds',\n",
       " 'birthday',\n",
       " 'bit',\n",
       " 'bite',\n",
       " 'bitsy',\n",
       " 'bitter',\n",
       " 'biz',\n",
       " 'bizarre',\n",
       " 'black',\n",
       " 'blackberry',\n",
       " 'blame',\n",
       " 'blamed',\n",
       " 'blames',\n",
       " 'blast',\n",
       " 'bleeding',\n",
       " 'blend',\n",
       " 'blesses',\n",
       " 'blessing',\n",
       " 'blinded',\n",
       " 'blitz',\n",
       " 'bln',\n",
       " 'block',\n",
       " 'blockbuster',\n",
       " 'blocker',\n",
       " 'blog',\n",
       " 'blogging',\n",
       " 'blogs',\n",
       " 'bloomberg',\n",
       " 'bloomin',\n",
       " 'blossom',\n",
       " 'blowout',\n",
       " 'blows',\n",
       " 'blue',\n",
       " 'blunder',\n",
       " 'bmo',\n",
       " 'board',\n",
       " 'boards',\n",
       " 'boastful',\n",
       " 'bob',\n",
       " 'bobby',\n",
       " 'bodes',\n",
       " 'boffo',\n",
       " 'boils',\n",
       " 'bolstering',\n",
       " 'bolsters',\n",
       " 'bolts',\n",
       " 'bombed',\n",
       " 'bonanza',\n",
       " 'bond',\n",
       " 'bonds',\n",
       " 'bono',\n",
       " 'bonus',\n",
       " 'boo',\n",
       " 'book',\n",
       " 'books',\n",
       " 'boom',\n",
       " 'booming',\n",
       " 'boon',\n",
       " 'boost',\n",
       " 'boosted',\n",
       " 'boosts',\n",
       " 'boring',\n",
       " 'born',\n",
       " 'borrowing',\n",
       " 'boss',\n",
       " 'boston',\n",
       " 'botched',\n",
       " 'bought',\n",
       " 'boulder',\n",
       " 'bounce',\n",
       " 'bounces',\n",
       " 'bound',\n",
       " 'bounds',\n",
       " 'bow',\n",
       " 'bows',\n",
       " 'box',\n",
       " 'boys',\n",
       " 'brace',\n",
       " 'braces',\n",
       " 'bracing',\n",
       " 'brainchild',\n",
       " 'brakes',\n",
       " 'branding',\n",
       " 'brands',\n",
       " 'brazil',\n",
       " 'brazilian',\n",
       " 'break',\n",
       " 'breaking',\n",
       " 'breaks',\n",
       " 'breakup',\n",
       " 'breakâ',\n",
       " 'breath',\n",
       " 'breathless',\n",
       " 'breed',\n",
       " 'brewing',\n",
       " 'bridges',\n",
       " 'brief',\n",
       " 'briefcase',\n",
       " 'briefing',\n",
       " 'briefly',\n",
       " 'briefs',\n",
       " 'brien',\n",
       " 'brightens',\n",
       " 'bring',\n",
       " 'brings',\n",
       " 'broad',\n",
       " 'broadcom',\n",
       " 'broker',\n",
       " 'brokerages',\n",
       " 'brokers',\n",
       " 'brooklyn',\n",
       " 'brought',\n",
       " 'brown',\n",
       " 'browsing',\n",
       " 'bs',\n",
       " 'bubble',\n",
       " 'bucket',\n",
       " 'bucks',\n",
       " 'buddy',\n",
       " 'budget',\n",
       " 'buffett',\n",
       " 'build',\n",
       " 'building',\n",
       " 'builds',\n",
       " 'built',\n",
       " 'bulges',\n",
       " 'bulks',\n",
       " 'bull',\n",
       " 'bullard',\n",
       " 'bullish',\n",
       " 'bullishness',\n",
       " 'bulls',\n",
       " 'bump',\n",
       " 'bumps',\n",
       " 'bumpy',\n",
       " 'bundle',\n",
       " 'bungled',\n",
       " 'bungling',\n",
       " 'buoy',\n",
       " 'bureau',\n",
       " 'burgeoning',\n",
       " 'burger',\n",
       " 'burgers',\n",
       " 'burke',\n",
       " 'burned',\n",
       " 'burner',\n",
       " 'burnout',\n",
       " 'bursts',\n",
       " 'busiest',\n",
       " 'business',\n",
       " 'businesses',\n",
       " 'bust',\n",
       " 'busy',\n",
       " 'button',\n",
       " 'buy',\n",
       " 'buyer',\n",
       " 'buyers',\n",
       " 'buying',\n",
       " 'buyout',\n",
       " 'buys',\n",
       " 'buzz',\n",
       " 'buzzy',\n",
       " 'ca',\n",
       " 'cable',\n",
       " 'cabraser',\n",
       " 'cake',\n",
       " 'calendar',\n",
       " 'calif',\n",
       " 'california',\n",
       " 'calithera',\n",
       " 'called',\n",
       " 'calls',\n",
       " 'calm',\n",
       " 'cambridge',\n",
       " 'came',\n",
       " 'camer',\n",
       " 'camera',\n",
       " 'cameras',\n",
       " 'campaign',\n",
       " 'campaigns',\n",
       " 'canada',\n",
       " 'canceled',\n",
       " 'cancelled',\n",
       " 'cancer',\n",
       " 'candor',\n",
       " 'cantor',\n",
       " 'cap',\n",
       " 'capital',\n",
       " 'capitalism',\n",
       " 'capitalist',\n",
       " 'capitalists',\n",
       " 'capitalization',\n",
       " 'capitalize',\n",
       " 'capitalizes',\n",
       " 'capitol',\n",
       " 'caps',\n",
       " 'captivates',\n",
       " 'car',\n",
       " 'carbonite',\n",
       " 'care',\n",
       " 'career',\n",
       " 'careers',\n",
       " 'careful',\n",
       " 'carefully',\n",
       " 'carell',\n",
       " 'carmaker',\n",
       " 'carpet',\n",
       " 'carrier',\n",
       " 'carries',\n",
       " 'carrying',\n",
       " 'cars',\n",
       " 'carvana',\n",
       " 'case',\n",
       " 'cases',\n",
       " 'casey',\n",
       " 'cash',\n",
       " 'cashing',\n",
       " 'cashout',\n",
       " 'cassidy',\n",
       " 'cast',\n",
       " 'casting',\n",
       " 'casts',\n",
       " 'cat',\n",
       " 'catalyst',\n",
       " 'catch',\n",
       " 'catches',\n",
       " 'catchier',\n",
       " 'catching',\n",
       " 'cause',\n",
       " 'causes',\n",
       " 'caution',\n",
       " 'cautionary',\n",
       " 'cautious',\n",
       " 'caveat',\n",
       " 'caveats',\n",
       " 'cboe',\n",
       " 'cease',\n",
       " 'ceglia',\n",
       " 'ceiling',\n",
       " 'celebrants',\n",
       " 'celebrate',\n",
       " 'celebrates',\n",
       " 'celebration',\n",
       " 'cent',\n",
       " 'centa',\n",
       " 'center',\n",
       " 'centers',\n",
       " 'centric',\n",
       " 'cents',\n",
       " 'ceo',\n",
       " 'cfo',\n",
       " 'cha',\n",
       " 'chain',\n",
       " 'chains',\n",
       " 'chair',\n",
       " 'chairman',\n",
       " 'challenge',\n",
       " 'challenges',\n",
       " 'chamber',\n",
       " 'chan',\n",
       " 'chance',\n",
       " 'chances',\n",
       " 'change',\n",
       " 'changed',\n",
       " 'changes',\n",
       " 'channeladvisor',\n",
       " 'channels',\n",
       " 'character',\n",
       " 'characters',\n",
       " 'charges',\n",
       " 'charles',\n",
       " 'charleston',\n",
       " 'charms',\n",
       " 'chart',\n",
       " 'charts',\n",
       " 'chase',\n",
       " 'chasing',\n",
       " 'chat',\n",
       " 'cheap',\n",
       " 'cheaper',\n",
       " 'check',\n",
       " 'checks',\n",
       " 'cheers',\n",
       " 'chegg',\n",
       " 'chernin',\n",
       " 'cherokee',\n",
       " 'chest',\n",
       " 'chicago',\n",
       " 'chief',\n",
       " 'child',\n",
       " 'children',\n",
       " 'chime',\n",
       " 'china',\n",
       " 'chinese',\n",
       " 'chip',\n",
       " 'chirping',\n",
       " 'chocolate',\n",
       " 'choice',\n",
       " 'choices',\n",
       " 'chooses',\n",
       " 'chosen',\n",
       " 'chris',\n",
       " 'chrysler',\n",
       " 'chunk',\n",
       " 'churning',\n",
       " 'cia',\n",
       " 'cience',\n",
       " 'circle',\n",
       " 'circles',\n",
       " 'circling',\n",
       " 'circuit',\n",
       " 'circulating',\n",
       " 'cisco',\n",
       " 'cite',\n",
       " 'cited',\n",
       " 'cites',\n",
       " 'citi',\n",
       " 'cities',\n",
       " 'citigroup',\n",
       " 'citing',\n",
       " 'citizens',\n",
       " 'citizenship',\n",
       " 'city',\n",
       " 'clackamas',\n",
       " 'claim',\n",
       " 'claims',\n",
       " 'clamor',\n",
       " 'clamoring',\n",
       " 'clarifies',\n",
       " 'clash',\n",
       " 'clashes',\n",
       " 'class',\n",
       " 'clean',\n",
       " 'cleaned',\n",
       " 'clear',\n",
       " 'clears',\n",
       " 'clicks',\n",
       " 'clients',\n",
       " 'cliff',\n",
       " 'climb',\n",
       " 'climbing',\n",
       " 'climbs',\n",
       " 'clipped',\n",
       " 'cloaked',\n",
       " 'close',\n",
       " 'closed',\n",
       " 'closely',\n",
       " 'closer',\n",
       " 'closes',\n",
       " 'closing',\n",
       " 'clothing',\n",
       " 'cloud',\n",
       " 'clouds',\n",
       " 'club',\n",
       " 'clue',\n",
       " 'cmas',\n",
       " 'cmo',\n",
       " 'cnbc',\n",
       " 'cnn',\n",
       " 'coaster',\n",
       " 'coattails',\n",
       " 'coca',\n",
       " 'coconuts',\n",
       " 'coffee',\n",
       " 'cola',\n",
       " 'colbert',\n",
       " 'cold',\n",
       " 'coleman',\n",
       " 'collapse',\n",
       " 'columbia',\n",
       " 'column',\n",
       " 'com',\n",
       " 'comcast',\n",
       " 'come',\n",
       " 'comeback',\n",
       " 'comes',\n",
       " 'coming',\n",
       " 'commandments',\n",
       " 'commence',\n",
       " 'commencement',\n",
       " 'comment',\n",
       " 'commentary',\n",
       " 'comments',\n",
       " 'commerce',\n",
       " 'commission',\n",
       " 'commit',\n",
       " 'commitment',\n",
       " 'commitments',\n",
       " 'committed',\n",
       " 'committee',\n",
       " 'committees',\n",
       " 'common',\n",
       " 'communication',\n",
       " 'compact',\n",
       " 'compan',\n",
       " 'companies',\n",
       " 'company',\n",
       " 'comparable',\n",
       " 'compares',\n",
       " 'comparisons',\n",
       " 'compensate',\n",
       " 'compensation',\n",
       " 'compete',\n",
       " 'competing',\n",
       " 'competition',\n",
       " 'competitor',\n",
       " 'competitors',\n",
       " 'complaints',\n",
       " 'complete',\n",
       " 'completes',\n",
       " 'completion',\n",
       " 'complicated',\n",
       " 'computing',\n",
       " 'concedes',\n",
       " 'concern',\n",
       " 'concerning',\n",
       " 'concerns',\n",
       " 'concessions',\n",
       " 'conditions',\n",
       " 'conduct',\n",
       " 'conducts',\n",
       " 'cone',\n",
       " 'conference',\n",
       " 'confidence',\n",
       " 'confident',\n",
       " 'confidential',\n",
       " 'confidentially',\n",
       " 'conflict',\n",
       " 'conflicts',\n",
       " 'confront',\n",
       " 'confronts',\n",
       " 'confused',\n",
       " 'confusion',\n",
       " 'congress',\n",
       " 'congressional',\n",
       " 'congressman',\n",
       " 'congresswoman',\n",
       " 'connect',\n",
       " 'connected',\n",
       " 'connecting',\n",
       " 'connection',\n",
       " 'connects',\n",
       " 'conquer',\n",
       " 'cons',\n",
       " 'conscience',\n",
       " 'conscious',\n",
       " 'conservative',\n",
       " 'consider',\n",
       " 'consideration',\n",
       " 'considered',\n",
       " 'considering',\n",
       " 'considers',\n",
       " 'consistently',\n",
       " 'consolidate',\n",
       " 'conspiracy',\n",
       " 'consumer',\n",
       " 'consumers',\n",
       " 'contact',\n",
       " 'contacts',\n",
       " 'contender',\n",
       " 'content',\n",
       " 'context',\n",
       " 'continents',\n",
       " 'continue',\n",
       " 'continues',\n",
       " 'continuing',\n",
       " 'contracts',\n",
       " 'contradictions',\n",
       " 'contrast',\n",
       " 'contributed',\n",
       " 'control',\n",
       " 'controls',\n",
       " 'controversial',\n",
       " 'controversy',\n",
       " 'convention',\n",
       " 'convergex',\n",
       " 'convertible',\n",
       " 'conviction',\n",
       " 'coo',\n",
       " 'cook',\n",
       " 'cooking',\n",
       " 'cooks',\n",
       " 'cool',\n",
       " 'cooling',\n",
       " 'cools',\n",
       " 'copernican',\n",
       " 'copycats',\n",
       " 'corker',\n",
       " 'corp',\n",
       " 'corporate',\n",
       " 'corporation',\n",
       " 'corporations',\n",
       " 'correct',\n",
       " 'corrected',\n",
       " 'correspondence',\n",
       " 'cost',\n",
       " 'costliest',\n",
       " 'costly',\n",
       " 'costolo',\n",
       " 'costs',\n",
       " 'counsels',\n",
       " 'count',\n",
       " 'countdown',\n",
       " 'counterfeit',\n",
       " 'country',\n",
       " 'county',\n",
       " 'coupon',\n",
       " 'course',\n",
       " 'court',\n",
       " 'courting',\n",
       " 'courts',\n",
       " 'cover',\n",
       " 'coverage',\n",
       " 'covered',\n",
       " 'coveted',\n",
       " 'cows',\n",
       " 'cox',\n",
       " 'cpa',\n",
       " 'cppib',\n",
       " 'crackling',\n",
       " 'cracks',\n",
       " 'craft',\n",
       " 'crafts',\n",
       " 'crafty',\n",
       " 'cramer',\n",
       " 'crap',\n",
       " 'crash',\n",
       " 'crashes',\n",
       " 'crashlytics',\n",
       " 'crave',\n",
       " 'crawl',\n",
       " 'craze',\n",
       " 'crazy',\n",
       " 'create',\n",
       " 'created',\n",
       " 'creates',\n",
       " 'creating',\n",
       " 'creation',\n",
       " 'creator',\n",
       " 'creators',\n",
       " 'credit',\n",
       " 'creditors',\n",
       " 'criden',\n",
       " 'crime',\n",
       " 'crimp',\n",
       " 'crisis',\n",
       " 'critically',\n",
       " 'criticism',\n",
       " 'criticizes',\n",
       " 'critics',\n",
       " 'cromwell',\n",
       " 'crop',\n",
       " 'cross',\n",
       " 'crowd',\n",
       " 'crowds',\n",
       " 'crown',\n",
       " 'crucial',\n",
       " 'cruze',\n",
       " 'csi',\n",
       " 'cto',\n",
       " 'cuban',\n",
       " 'cue',\n",
       " 'culpa',\n",
       " 'curb',\n",
       " 'current',\n",
       " 'currently',\n",
       " 'curtain',\n",
       " 'custom',\n",
       " 'customer',\n",
       " 'customers',\n",
       " 'cut',\n",
       " 'cuts',\n",
       " 'cutting',\n",
       " 'cybersecurity',\n",
       " 'cynic',\n",
       " 'daily',\n",
       " 'dalmia',\n",
       " 'damage',\n",
       " 'damages',\n",
       " 'damp',\n",
       " 'dampens',\n",
       " 'damper',\n",
       " 'dan',\n",
       " 'dance',\n",
       " 'danny',\n",
       " 'daring',\n",
       " 'dark',\n",
       " 'darling',\n",
       " 'dashed',\n",
       " 'data',\n",
       " 'date',\n",
       " 'dating',\n",
       " 'dave',\n",
       " 'david',\n",
       " 'davis',\n",
       " 'day',\n",
       " 'days',\n",
       " 'dazzles',\n",
       " 'dazzling',\n",
       " 'dead',\n",
       " 'deal',\n",
       " 'dealers',\n",
       " 'dealpolitik',\n",
       " 'deals',\n",
       " 'debacle',\n",
       " 'debate',\n",
       " 'debated',\n",
       " 'debating',\n",
       " 'debt',\n",
       " 'debut',\n",
       " 'debuted',\n",
       " 'debuts',\n",
       " 'decade',\n",
       " 'decelerates',\n",
       " 'deceleration',\n",
       " 'decide',\n",
       " 'decides',\n",
       " 'decision',\n",
       " 'decisions',\n",
       " 'deck',\n",
       " 'declared',\n",
       " 'declares',\n",
       " 'decline',\n",
       " 'declines',\n",
       " 'declining',\n",
       " 'decreases',\n",
       " 'deduction',\n",
       " 'deemed',\n",
       " 'deepens',\n",
       " 'defies',\n",
       " 'definition',\n",
       " 'defriending',\n",
       " 'defy',\n",
       " 'defying',\n",
       " 'degree',\n",
       " 'delay',\n",
       " 'delayed',\n",
       " 'delaying',\n",
       " 'delays',\n",
       " 'delicate',\n",
       " 'delicious',\n",
       " 'delisting',\n",
       " 'deliver',\n",
       " 'delivered',\n",
       " 'delivering',\n",
       " 'delivers',\n",
       " 'delivery',\n",
       " 'demand',\n",
       " 'demandg',\n",
       " 'demands',\n",
       " 'demois',\n",
       " 'demolish',\n",
       " 'dems',\n",
       " 'denies',\n",
       " 'dent',\n",
       " ...]"
      ]
     },
     "execution_count": 9,
     "metadata": {},
     "output_type": "execute_result"
    }
   ],
   "source": [
    "vectorizer.get_feature_names()\n",
    "#vectorizer.vocabulary_"
   ]
  },
  {
   "cell_type": "code",
   "execution_count": 424,
   "metadata": {},
   "outputs": [
    {
     "data": {
      "text/html": [
       "<div>\n",
       "<style scoped>\n",
       "    .dataframe tbody tr th:only-of-type {\n",
       "        vertical-align: middle;\n",
       "    }\n",
       "\n",
       "    .dataframe tbody tr th {\n",
       "        vertical-align: top;\n",
       "    }\n",
       "\n",
       "    .dataframe thead th {\n",
       "        text-align: right;\n",
       "    }\n",
       "</style>\n",
       "<table border=\"1\" class=\"dataframe\">\n",
       "  <thead>\n",
       "    <tr style=\"text-align: right;\">\n",
       "      <th></th>\n",
       "      <th>0</th>\n",
       "    </tr>\n",
       "  </thead>\n",
       "  <tbody>\n",
       "    <tr>\n",
       "      <th>œwebsitesâ</th>\n",
       "      <td>7844</td>\n",
       "    </tr>\n",
       "    <tr>\n",
       "      <th>œwe</th>\n",
       "      <td>7843</td>\n",
       "    </tr>\n",
       "    <tr>\n",
       "      <th>œunique</th>\n",
       "      <td>7842</td>\n",
       "    </tr>\n",
       "    <tr>\n",
       "      <th>œunfriendingâ</th>\n",
       "      <td>7841</td>\n",
       "    </tr>\n",
       "    <tr>\n",
       "      <th>œtwtrâ</th>\n",
       "      <td>7840</td>\n",
       "    </tr>\n",
       "  </tbody>\n",
       "</table>\n",
       "</div>"
      ],
      "text/plain": [
       "                  0\n",
       "œwebsitesâ     7844\n",
       "œwe            7843\n",
       "œunique        7842\n",
       "œunfriendingâ  7841\n",
       "œtwtrâ         7840"
      ]
     },
     "execution_count": 424,
     "metadata": {},
     "output_type": "execute_result"
    }
   ],
   "source": [
    "pd.DataFrame.from_dict(vectorizer.vocabulary_, orient='index').sort_values(by=0, ascending=False).head()"
   ]
  },
  {
   "cell_type": "markdown",
   "metadata": {},
   "source": [
    "#### Transform to Document Term Matrix"
   ]
  },
  {
   "cell_type": "code",
   "execution_count": 386,
   "metadata": {},
   "outputs": [
    {
     "data": {
      "text/plain": [
       "<5301x4711 sparse matrix of type '<class 'numpy.int64'>'\n",
       "\twith 40946 stored elements in Compressed Sparse Row format>"
      ]
     },
     "execution_count": 386,
     "metadata": {},
     "output_type": "execute_result"
    }
   ],
   "source": [
    "dtm = vectorizer.transform(text_data)\n",
    "dtm"
   ]
  },
  {
   "cell_type": "code",
   "execution_count": 387,
   "metadata": {},
   "outputs": [
    {
     "name": "stdout",
     "output_type": "stream",
     "text": [
      "<class 'pandas.core.frame.DataFrame'>\n",
      "RangeIndex: 5301 entries, 0 to 5300\n",
      "Columns: 4711 entries, abandons to œtwitter\n",
      "dtypes: int64(4711)\n",
      "memory usage: 190.5 MB\n"
     ]
    }
   ],
   "source": [
    "Text_Features = pd.DataFrame(dtm.toarray(), columns=vectorizer.get_feature_names())\n",
    "Text_Features.info()"
   ]
  },
  {
   "cell_type": "code",
   "execution_count": 388,
   "metadata": {},
   "outputs": [],
   "source": [
    "#Text_Features.to_csv('TEXT_FEATURES.csv')"
   ]
  },
  {
   "cell_type": "code",
   "execution_count": 1,
   "metadata": {},
   "outputs": [
    {
     "name": "stderr",
     "output_type": "stream",
     "text": [
      "/home/mji/anaconda3/lib/python3.6/site-packages/sklearn/cross_validation.py:41: DeprecationWarning: This module was deprecated in version 0.18 in favor of the model_selection module into which all the refactored classes and functions are moved. Also note that the interface of the new CV iterators are different from that of this module. This module will be removed in 0.20.\n",
      "  \"This module will be removed in 0.20.\", DeprecationWarning)\n"
     ]
    },
    {
     "ename": "NameError",
     "evalue": "name 'Text_Features' is not defined",
     "output_type": "error",
     "traceback": [
      "\u001b[0;31m---------------------------------------------------------------------------\u001b[0m",
      "\u001b[0;31mNameError\u001b[0m                                 Traceback (most recent call last)",
      "\u001b[0;32m<ipython-input-1-7eed90b2baff>\u001b[0m in \u001b[0;36m<module>\u001b[0;34m()\u001b[0m\n\u001b[1;32m      3\u001b[0m \u001b[0;32mfrom\u001b[0m \u001b[0msklearn\u001b[0m \u001b[0;32mimport\u001b[0m \u001b[0mmetrics\u001b[0m\u001b[0;34m\u001b[0m\u001b[0m\n\u001b[1;32m      4\u001b[0m \u001b[0;34m\u001b[0m\u001b[0m\n\u001b[0;32m----> 5\u001b[0;31m \u001b[0mX\u001b[0m \u001b[0;34m=\u001b[0m \u001b[0mText_Features\u001b[0m\u001b[0;34m\u001b[0m\u001b[0m\n\u001b[0m\u001b[1;32m      6\u001b[0m \u001b[0my\u001b[0m \u001b[0;34m=\u001b[0m \u001b[0mnp\u001b[0m\u001b[0;34m.\u001b[0m\u001b[0marray\u001b[0m\u001b[0;34m(\u001b[0m\u001b[0mdf\u001b[0m\u001b[0;34m[\u001b[0m\u001b[0;34m'Label'\u001b[0m\u001b[0;34m]\u001b[0m\u001b[0;34m.\u001b[0m\u001b[0mtolist\u001b[0m\u001b[0;34m(\u001b[0m\u001b[0;34m)\u001b[0m\u001b[0;34m)\u001b[0m\u001b[0;34m\u001b[0m\u001b[0m\n\u001b[1;32m      7\u001b[0m \u001b[0;31m#y = np.array(df_woFB['Label'].tolist())\u001b[0m\u001b[0;34m\u001b[0m\u001b[0;34m\u001b[0m\u001b[0m\n",
      "\u001b[0;31mNameError\u001b[0m: name 'Text_Features' is not defined"
     ]
    }
   ],
   "source": [
    "from sklearn.cross_validation import train_test_split\n",
    "from sklearn.naive_bayes import MultinomialNB\n",
    "from sklearn import metrics\n",
    "\n",
    "X = Text_Features\n",
    "y = np.array(df['Label'].tolist())\n",
    "#y = np.array(df_woFB['Label'].tolist())\n",
    "len(y)\n",
    "#X_train, X_test, y_train, y_test = train_test_split(X, y, test_size=0.25, random_state=33)\n",
    "#print(X_train.shape, y_train.shape)"
   ]
  },
  {
   "cell_type": "code",
   "execution_count": 390,
   "metadata": {},
   "outputs": [],
   "source": [
    "nb = MultinomialNB()"
   ]
  },
  {
   "cell_type": "code",
   "execution_count": 391,
   "metadata": {},
   "outputs": [
    {
     "data": {
      "text/plain": [
       "MultinomialNB(alpha=1.0, class_prior=None, fit_prior=True)"
      ]
     },
     "execution_count": 391,
     "metadata": {},
     "output_type": "execute_result"
    }
   ],
   "source": [
    "nb.fit(X_train, y_train)"
   ]
  },
  {
   "cell_type": "code",
   "execution_count": 392,
   "metadata": {},
   "outputs": [],
   "source": [
    "y_pred_class = nb.predict(X_test)"
   ]
  },
  {
   "cell_type": "code",
   "execution_count": 393,
   "metadata": {},
   "outputs": [
    {
     "data": {
      "text/plain": [
       "0.9924585218702866"
      ]
     },
     "execution_count": 393,
     "metadata": {},
     "output_type": "execute_result"
    }
   ],
   "source": [
    "#metrics.accuracy_score(y_test, y_pred_class)\n",
    "metrics.accuracy_score(y_test, y_pred_class)"
   ]
  },
  {
   "cell_type": "code",
   "execution_count": 394,
   "metadata": {},
   "outputs": [
    {
     "name": "stdout",
     "output_type": "stream",
     "text": [
      "             precision    recall  f1-score   support\n",
      "\n",
      "   Negative       0.99      0.99      0.99       770\n",
      "   Positive       0.99      0.99      0.99       556\n",
      "\n",
      "avg / total       0.99      0.99      0.99      1326\n",
      "\n"
     ]
    }
   ],
   "source": [
    "print(metrics.classification_report(y_test, y_pred_class))"
   ]
  },
  {
   "cell_type": "markdown",
   "metadata": {},
   "source": [
    "## Yellowbrick Classification Report"
   ]
  },
  {
   "cell_type": "code",
   "execution_count": 396,
   "metadata": {},
   "outputs": [
    {
     "data": {
      "image/png": "[encoded data removed]",
      "text/plain": [
       "<matplotlib.figure.Figure at 0x7f24a5bd3898>"
      ]
     },
     "metadata": {},
     "output_type": "display_data"
    }
   ],
   "source": [
    "from yellowbrick.classifier import ClassificationReport\n",
    "bayes = MultinomialNB()\n",
    "visualizer = ClassificationReport(bayes, classes=['Negative', 'Positive'])\n",
    "visualizer.fit(X_train, y_train)\n",
    "visualizer.score(X_test, y_test)\n",
    "g = visualizer.poof()"
   ]
  },
  {
   "cell_type": "markdown",
   "metadata": {},
   "source": [
    "## Confusion Matrix"
   ]
  },
  {
   "cell_type": "code",
   "execution_count": 397,
   "metadata": {},
   "outputs": [
    {
     "data": {
      "image/png": "[encoded data removed]",
      "text/plain": [
       "<matplotlib.figure.Figure at 0x7f24a5e8c1d0>"
      ]
     },
     "metadata": {},
     "output_type": "display_data"
    }
   ],
   "source": [
    "from sklearn.metrics import confusion_matrix\n",
    "cm = confusion_matrix(y_test, y_pred_class)\n",
    "sns.set(font_scale=1.5)\n",
    "\n",
    "ax = plt.subplot()\n",
    "sns.heatmap(cm, annot=True, ax=ax, fmt='g', cbar=False)\n",
    "\n",
    "\n",
    "ax.set_xlabel('Predicted')\n",
    "ax.set_ylabel('True')\n",
    "ax.set_title('Confusion Matrix')\n",
    "ax.xaxis.set_ticklabels(['Negative', 'Positive'])\n",
    "ax.yaxis.set_ticklabels(['Negative', 'Positive'])\n",
    "#plt.tight_layout()\n",
    "#plt.figure(figsize=(10,10))\n",
    "plt.show()"
   ]
  },
  {
   "cell_type": "markdown",
   "metadata": {},
   "source": [
    "# Same Analysis on Story Text"
   ]
  },
  {
   "cell_type": "code",
   "execution_count": 422,
   "metadata": {},
   "outputs": [
    {
     "data": {
      "text/html": [
       "<div>\n",
       "<style scoped>\n",
       "    .dataframe tbody tr th:only-of-type {\n",
       "        vertical-align: middle;\n",
       "    }\n",
       "\n",
       "    .dataframe tbody tr th {\n",
       "        vertical-align: top;\n",
       "    }\n",
       "\n",
       "    .dataframe thead th {\n",
       "        text-align: right;\n",
       "    }\n",
       "</style>\n",
       "<table border=\"1\" class=\"dataframe\">\n",
       "  <thead>\n",
       "    <tr style=\"text-align: right;\">\n",
       "      <th></th>\n",
       "      <th>Text</th>\n",
       "      <th>Label</th>\n",
       "      <th>Label180</th>\n",
       "    </tr>\n",
       "  </thead>\n",
       "  <tbody>\n",
       "    <tr>\n",
       "      <th>0</th>\n",
       "      <td>Facebook wooed Madison Avenue on Wednesday wit...</td>\n",
       "      <td>Negative</td>\n",
       "      <td>Negative</td>\n",
       "    </tr>\n",
       "    <tr>\n",
       "      <th>1</th>\n",
       "      <td>Facebook Inc. priced its shares in its initial...</td>\n",
       "      <td>Negative</td>\n",
       "      <td>Negative</td>\n",
       "    </tr>\n",
       "    <tr>\n",
       "      <th>2</th>\n",
       "      <td>NEW YORK -- Securities regulators are amping u...</td>\n",
       "      <td>Negative</td>\n",
       "      <td>Negative</td>\n",
       "    </tr>\n",
       "    <tr>\n",
       "      <th>3</th>\n",
       "      <td>WASHINGTON -- A class-action lawsuit was filed...</td>\n",
       "      <td>Negative</td>\n",
       "      <td>Negative</td>\n",
       "    </tr>\n",
       "    <tr>\n",
       "      <th>4</th>\n",
       "      <td>The most anticipated IPO since Google is one s...</td>\n",
       "      <td>Negative</td>\n",
       "      <td>Negative</td>\n",
       "    </tr>\n",
       "  </tbody>\n",
       "</table>\n",
       "</div>"
      ],
      "text/plain": [
       "                                                Text     Label  Label180\n",
       "0  Facebook wooed Madison Avenue on Wednesday wit...  Negative  Negative\n",
       "1  Facebook Inc. priced its shares in its initial...  Negative  Negative\n",
       "2  NEW YORK -- Securities regulators are amping u...  Negative  Negative\n",
       "3  WASHINGTON -- A class-action lawsuit was filed...  Negative  Negative\n",
       "4  The most anticipated IPO since Google is one s...  Negative  Negative"
      ]
     },
     "execution_count": 422,
     "metadata": {},
     "output_type": "execute_result"
    }
   ],
   "source": [
    "stories = pd.read_csv('Text.csv', index_col=0)\n",
    "stories.head()"
   ]
  },
  {
   "cell_type": "code",
   "execution_count": 399,
   "metadata": {},
   "outputs": [],
   "source": [
    "text_data = stories['Text'].replace('\\d+', 'NUM_', regex=True)"
   ]
  },
  {
   "cell_type": "code",
   "execution_count": 400,
   "metadata": {},
   "outputs": [],
   "source": [
    "vectorizer = CountVectorizer(analyzer='word', stop_words='english')"
   ]
  },
  {
   "cell_type": "code",
   "execution_count": 401,
   "metadata": {},
   "outputs": [
    {
     "data": {
      "text/plain": [
       "CountVectorizer(analyzer='word', binary=False, decode_error='strict',\n",
       "        dtype=<class 'numpy.int64'>, encoding='utf-8', input='content',\n",
       "        lowercase=True, max_df=1.0, max_features=None, min_df=1,\n",
       "        ngram_range=(1, 1), preprocessor=None, stop_words='english',\n",
       "        strip_accents=None, token_pattern='(?u)\\\\b\\\\w\\\\w+\\\\b',\n",
       "        tokenizer=None, vocabulary=None)"
      ]
     },
     "execution_count": 401,
     "metadata": {},
     "output_type": "execute_result"
    }
   ],
   "source": [
    "vectorizer.fit(text_data)"
   ]
  },
  {
   "cell_type": "code",
   "execution_count": 423,
   "metadata": {},
   "outputs": [
    {
     "data": {
      "text/html": [
       "<div>\n",
       "<style scoped>\n",
       "    .dataframe tbody tr th:only-of-type {\n",
       "        vertical-align: middle;\n",
       "    }\n",
       "\n",
       "    .dataframe tbody tr th {\n",
       "        vertical-align: top;\n",
       "    }\n",
       "\n",
       "    .dataframe thead th {\n",
       "        text-align: right;\n",
       "    }\n",
       "</style>\n",
       "<table border=\"1\" class=\"dataframe\">\n",
       "  <thead>\n",
       "    <tr style=\"text-align: right;\">\n",
       "      <th></th>\n",
       "      <th>0</th>\n",
       "    </tr>\n",
       "  </thead>\n",
       "  <tbody>\n",
       "    <tr>\n",
       "      <th>œwebsitesâ</th>\n",
       "      <td>7844</td>\n",
       "    </tr>\n",
       "    <tr>\n",
       "      <th>œwe</th>\n",
       "      <td>7843</td>\n",
       "    </tr>\n",
       "    <tr>\n",
       "      <th>œunique</th>\n",
       "      <td>7842</td>\n",
       "    </tr>\n",
       "    <tr>\n",
       "      <th>œunfriendingâ</th>\n",
       "      <td>7841</td>\n",
       "    </tr>\n",
       "    <tr>\n",
       "      <th>œtwtrâ</th>\n",
       "      <td>7840</td>\n",
       "    </tr>\n",
       "  </tbody>\n",
       "</table>\n",
       "</div>"
      ],
      "text/plain": [
       "                  0\n",
       "œwebsitesâ     7844\n",
       "œwe            7843\n",
       "œunique        7842\n",
       "œunfriendingâ  7841\n",
       "œtwtrâ         7840"
      ]
     },
     "execution_count": 423,
     "metadata": {},
     "output_type": "execute_result"
    }
   ],
   "source": [
    "pd.DataFrame.from_dict(vectorizer.vocabulary_, orient='index').sort_values(by=0, ascending=False).head()"
   ]
  },
  {
   "cell_type": "code",
   "execution_count": 403,
   "metadata": {},
   "outputs": [
    {
     "data": {
      "text/plain": [
       "<4389x7845 sparse matrix of type '<class 'numpy.int64'>'\n",
       "\twith 83630 stored elements in Compressed Sparse Row format>"
      ]
     },
     "execution_count": 403,
     "metadata": {},
     "output_type": "execute_result"
    }
   ],
   "source": [
    "dtm = vectorizer.transform(text_data)\n",
    "dtm"
   ]
  },
  {
   "cell_type": "code",
   "execution_count": 404,
   "metadata": {},
   "outputs": [
    {
     "name": "stdout",
     "output_type": "stream",
     "text": [
      "<class 'pandas.core.frame.DataFrame'>\n",
      "RangeIndex: 4389 entries, 0 to 4388\n",
      "Columns: 7845 entries, _follow_along to œwebsitesâ\n",
      "dtypes: int64(7845)\n",
      "memory usage: 262.7 MB\n"
     ]
    }
   ],
   "source": [
    "Text_Features = pd.DataFrame(dtm.toarray(), columns=vectorizer.get_feature_names())\n",
    "Text_Features.info()"
   ]
  },
  {
   "cell_type": "markdown",
   "metadata": {},
   "source": [
    "## Target is +90 Price Change Using Full Story Text"
   ]
  },
  {
   "cell_type": "code",
   "execution_count": 413,
   "metadata": {},
   "outputs": [
    {
     "name": "stdout",
     "output_type": "stream",
     "text": [
      "(3291, 7845) (3291,)\n"
     ]
    }
   ],
   "source": [
    "X = Text_Features\n",
    "y = np.array(stories['Label'].tolist())\n",
    "\n",
    "X_train, X_test, y_train, y_test = train_test_split(X, y, test_size=0.25, random_state=33)\n",
    "print(X_train.shape, y_train.shape)"
   ]
  },
  {
   "cell_type": "code",
   "execution_count": 414,
   "metadata": {},
   "outputs": [],
   "source": [
    "nb = MultinomialNB()"
   ]
  },
  {
   "cell_type": "code",
   "execution_count": 415,
   "metadata": {},
   "outputs": [
    {
     "data": {
      "text/plain": [
       "MultinomialNB(alpha=1.0, class_prior=None, fit_prior=True)"
      ]
     },
     "execution_count": 415,
     "metadata": {},
     "output_type": "execute_result"
    }
   ],
   "source": [
    "nb.fit(X_train, y_train)"
   ]
  },
  {
   "cell_type": "code",
   "execution_count": 416,
   "metadata": {},
   "outputs": [],
   "source": [
    "y_pred_class = nb.predict(X_test)"
   ]
  },
  {
   "cell_type": "code",
   "execution_count": 417,
   "metadata": {},
   "outputs": [
    {
     "data": {
      "text/plain": [
       "0.95992714025500914"
      ]
     },
     "execution_count": 417,
     "metadata": {},
     "output_type": "execute_result"
    }
   ],
   "source": [
    "metrics.accuracy_score(y_test, y_pred_class)"
   ]
  },
  {
   "cell_type": "code",
   "execution_count": 418,
   "metadata": {},
   "outputs": [
    {
     "name": "stdout",
     "output_type": "stream",
     "text": [
      "             precision    recall  f1-score   support\n",
      "\n",
      "   Negative       0.96      0.96      0.96       623\n",
      "   Positive       0.95      0.95      0.95       475\n",
      "\n",
      "avg / total       0.96      0.96      0.96      1098\n",
      "\n"
     ]
    }
   ],
   "source": [
    "print(metrics.classification_report(y_test, y_pred_class))"
   ]
  },
  {
   "cell_type": "code",
   "execution_count": 420,
   "metadata": {},
   "outputs": [
    {
     "data": {
      "image/png": "[encoded data removed]",
      "text/plain": [
       "<matplotlib.figure.Figure at 0x7f24a488aeb8>"
      ]
     },
     "metadata": {},
     "output_type": "display_data"
    }
   ],
   "source": [
    "from yellowbrick.classifier import ClassificationReport\n",
    "bayes = MultinomialNB()\n",
    "visualizer = ClassificationReport(bayes, classes=['Negative', 'Positive'])\n",
    "visualizer.fit(X_train, y_train)\n",
    "visualizer.score(X_test, y_test)\n",
    "g = visualizer.poof()"
   ]
  },
  {
   "cell_type": "code",
   "execution_count": 421,
   "metadata": {},
   "outputs": [
    {
     "data": {
      "image/png": "[encoded data removed]",
      "text/plain": [
       "<matplotlib.figure.Figure at 0x7f24a4987978>"
      ]
     },
     "metadata": {},
     "output_type": "display_data"
    }
   ],
   "source": [
    "from sklearn.metrics import confusion_matrix\n",
    "cm = confusion_matrix(y_test, y_pred_class)\n",
    "sns.set(font_scale=1.5)\n",
    "\n",
    "ax = plt.subplot()\n",
    "sns.heatmap(cm, annot=True, ax=ax, fmt='g', cbar=False)\n",
    "\n",
    "\n",
    "ax.set_xlabel('Predicted')\n",
    "ax.set_ylabel('True')\n",
    "ax.set_title('Confusion Matrix')\n",
    "ax.xaxis.set_ticklabels(['Negative', 'Neutral', 'Positive'])\n",
    "ax.yaxis.set_ticklabels(['Negative', 'Neutral', 'Positive'])\n",
    "#plt.tight_layout()\n",
    "#plt.figure(figsize=(10,10))\n",
    "plt.show()"
   ]
  },
  {
   "cell_type": "markdown",
   "metadata": {},
   "source": [
    "## Target is +180 Price Change Using Full Story Text"
   ]
  },
  {
   "cell_type": "code",
   "execution_count": 405,
   "metadata": {},
   "outputs": [
    {
     "name": "stdout",
     "output_type": "stream",
     "text": [
      "(3291, 7845) (3291,)\n"
     ]
    }
   ],
   "source": [
    "X = Text_Features\n",
    "y = np.array(stories['Label180'].tolist())\n",
    "\n",
    "X_train, X_test, y_train, y_test = train_test_split(X, y, test_size=0.25, random_state=33)\n",
    "print(X_train.shape, y_train.shape)"
   ]
  },
  {
   "cell_type": "code",
   "execution_count": 406,
   "metadata": {},
   "outputs": [],
   "source": [
    "nb = MultinomialNB()"
   ]
  },
  {
   "cell_type": "code",
   "execution_count": 407,
   "metadata": {},
   "outputs": [
    {
     "data": {
      "text/plain": [
       "MultinomialNB(alpha=1.0, class_prior=None, fit_prior=True)"
      ]
     },
     "execution_count": 407,
     "metadata": {},
     "output_type": "execute_result"
    }
   ],
   "source": [
    "nb.fit(X_train, y_train)"
   ]
  },
  {
   "cell_type": "code",
   "execution_count": 408,
   "metadata": {},
   "outputs": [],
   "source": [
    "y_pred_class = nb.predict(X_test)"
   ]
  },
  {
   "cell_type": "code",
   "execution_count": 409,
   "metadata": {},
   "outputs": [
    {
     "data": {
      "text/plain": [
       "0.95081967213114749"
      ]
     },
     "execution_count": 409,
     "metadata": {},
     "output_type": "execute_result"
    }
   ],
   "source": [
    "metrics.accuracy_score(y_test, y_pred_class)"
   ]
  },
  {
   "cell_type": "code",
   "execution_count": 410,
   "metadata": {},
   "outputs": [
    {
     "name": "stdout",
     "output_type": "stream",
     "text": [
      "             precision    recall  f1-score   support\n",
      "\n",
      "   Negative       0.97      0.97      0.97      1017\n",
      "    Neutral       0.45      0.41      0.43        22\n",
      "   Positive       0.74      0.76      0.75        59\n",
      "\n",
      "avg / total       0.95      0.95      0.95      1098\n",
      "\n"
     ]
    }
   ],
   "source": [
    "print(metrics.classification_report(y_test, y_pred_class))"
   ]
  },
  {
   "cell_type": "code",
   "execution_count": 411,
   "metadata": {},
   "outputs": [
    {
     "data": {
      "image/png": "[encoded data removed]",
      "text/plain": [
       "<matplotlib.figure.Figure at 0x7f24a481e7f0>"
      ]
     },
     "metadata": {},
     "output_type": "display_data"
    }
   ],
   "source": [
    "from yellowbrick.classifier import ClassificationReport\n",
    "bayes = MultinomialNB()\n",
    "visualizer = ClassificationReport(bayes, classes=['Negative', 'Neutral', 'Positive'])\n",
    "visualizer.fit(X_train, y_train)\n",
    "visualizer.score(X_test, y_test)\n",
    "g = visualizer.poof()"
   ]
  },
  {
   "cell_type": "code",
   "execution_count": 412,
   "metadata": {},
   "outputs": [
    {
     "data": {
      "image/png": "[encoded data removed]",
      "text/plain": [
       "<matplotlib.figure.Figure at 0x7f24a6888160>"
      ]
     },
     "metadata": {},
     "output_type": "display_data"
    }
   ],
   "source": [
    "from sklearn.metrics import confusion_matrix\n",
    "cm = confusion_matrix(y_test, y_pred_class)\n",
    "sns.set(font_scale=1.5)\n",
    "\n",
    "ax = plt.subplot()\n",
    "sns.heatmap(cm, annot=True, ax=ax, fmt='g', cbar=False)\n",
    "\n",
    "\n",
    "ax.set_xlabel('Predicted')\n",
    "ax.set_ylabel('True')\n",
    "ax.set_title('Confusion Matrix')\n",
    "ax.xaxis.set_ticklabels(['Negative', 'Neutral', 'Positive'])\n",
    "ax.yaxis.set_ticklabels(['Negative', 'Neutral', 'Positive'])\n",
    "#plt.tight_layout()\n",
    "#plt.figure(figsize=(10,10))\n",
    "plt.show()"
   ]
  },
  {
   "cell_type": "code",
   "execution_count": null,
   "metadata": {},
   "outputs": [],
   "source": []
  }
 ],
 "metadata": {
  "kernelspec": {
   "display_name": "Python 3",
   "language": "python",
   "name": "python3"
  },
  "language_info": {
   "codemirror_mode": {
    "name": "ipython",
    "version": 3
   },
   "file_extension": ".py",
   "mimetype": "text/x-python",
   "name": "python",
   "nbconvert_exporter": "python",
   "pygments_lexer": "ipython3",
   "version": "3.6.3"
  }
 },
 "nbformat": 4,
 "nbformat_minor": 2
}
